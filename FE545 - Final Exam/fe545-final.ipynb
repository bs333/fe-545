{
 "cells": [
  {
   "cell_type": "markdown",
   "metadata": {},
   "source": [
    "### FE545 - Final Exam"
   ]
  },
  {
   "cell_type": "markdown",
   "metadata": {},
   "source": [
    "**Author**: Sid Bhatia\n",
    "\n",
    "**Date**: May 3th, 2024\n",
    "\n",
    "**Pledge**: I pledge my honor that I have abided by the Stevens Honor System.\n",
    "\n",
    "**Professor**: Steve Yang"
   ]
  },
  {
   "cell_type": "markdown",
   "metadata": {},
   "source": [
    "#### Background"
   ]
  },
  {
   "cell_type": "markdown",
   "metadata": {},
   "source": [
    "#### Random Tree Methods (RTMs)"
   ]
  },
  {
   "cell_type": "markdown",
   "metadata": {},
   "source": [
    "Tree-based methods can be used for obtaining option prices, which are especially popular for pricing American options. Binomial (BAPM/BOPM), trinomial (TAPM/TOPM), and random tree methods (RTM) can be used to price many options, including plain vanilla options, and also exotic options such as barrier options, digital options, Asian options, and others.\n",
    "\n",
    "We will be pricing American options using TAPM/RT methods via design principles in C++.\n",
    "\n",
    "Pricing a derivative security entails calculating the **expected value of its payoff**. This reduces, in principle, to a problem of *numerical integration*; but in practice this calculation is often difficult for high-dimensional pricing problems.\n",
    "\n",
    "The binomial options pricing model (BOPM) approach has been widely used since it is able to handle a variety of conditions for which other models cannot easily be applied. This mainly since the BOPM is based on the description of an underlying instrument over a period of time rather than a single point. Therefore, it can be used to price Americans that are exercisable $\\forall \\, t \\in [0, T]$."
   ]
  },
  {
   "cell_type": "markdown",
   "metadata": {},
   "source": [
    "The TOPM, proposed by **Phelim Boyle** in '86, is (considered to be) more accurate than BOPM, producing the same results w/fewer steps.\n",
    "\n",
    "**Broadie** and **Glasserman** ('97) proposed the simulated random tree to price Americans, deriving the upper/lower bounds; this combo makes it easier to measure & control error as computational effort increases $(m \\to \\infty)$. The main drawback of RTM is *computational requirements* grow exponentially with $m$, # of exercise dates, applicable only when $m < \\text{big number}$. For $m = \\text{small number}$, RTM works well & shows theme of **mananging scores** of **high/low bias**."
   ]
  },
  {
   "cell_type": "markdown",
   "metadata": {},
   "source": [
    "The typical simulation to Euro pricing is use sims to $\\approx$ the expectation:\n",
    "\n",
    "$$\n",
    "P = e^{-r T} \\mathbb{E}^Q[f(S_T)] \\tag{1}\n",
    "$$\n",
    "\n",
    "where $f(S_T)$ is the payoff function at maturity $T$. For a call, $f(S_T) = (S_T - K)_+$. $r$ denotes the risk-free rate, $K$ is the strike, and $S_r$ is the **terminal stock price**."
   ]
  },
  {
   "cell_type": "markdown",
   "metadata": {},
   "source": [
    "For Americans, the dilemma is as follows:\n",
    "\n",
    "$$\n",
    "P = \\max_{\\tau}\\{e^{-r \\tau} (S_{\\tau} - K)_+\\}, \\; \\forall \\tau \\leq T \\tag{2}\n",
    "$$"
   ]
  },
  {
   "cell_type": "markdown",
   "metadata": {},
   "source": [
    "We discretize this problem where $\\tau \\in \\mathcal{P}$, with $\\mathcal{P} = \\{t_0, t_1, \\dots, t_d\\}$ such that $t_0 < t_1 < \\dots < t_d = T$. For an American option, we simulate a path of asset prices $(S_0, S_1, \\dots, S_T)$. Let $i \\in \\{1, \\dots, d\\}$ correspond to intermediate times $t_i$ in $\\mathcal{P}$.\n",
    "\n",
    "To calculate the **discounted value** of an option for a given simulation path, you first determine the payoff for each path at maturity and then average these results over many simulations. This process helps estimate the expected payoff under stochastic conditions. How do we compute the value along each path?"
   ]
  },
  {
   "cell_type": "markdown",
   "metadata": {},
   "source": [
    "**Broadie** and **Glasserman** (1997) developed a stochastic method to estimate lower and upper bounds for American options. Let $\\tilde{h}_i$ denote the **payoff function** for exercise at $t_i$, depending on $i$. Let $\\tilde{V}_i(x)$ denote the value of the option at $t_i$ given $X_i = x_i$ (assuming the option has **not been exercised**).\n",
    "\n",
    "Why do we care? We have an interest in $\\tilde{V}_0 (X_0)$, which is recursively defined as follows:\n",
    "\n",
    "$$\n",
    "\\tilde{V}_m (x) = \\tilde{h}_m (x) \\tag{3}\n",
    "$$\n",
    "\n",
    "$$\n",
    "\\tilde{V}_{i-1}(x) = \\max\\{\\tilde{h}_{i-1}(x), \\, \\mathbb{E}[D_{i-1, i} \\tilde{V}_i (X_i) \\mid X_{i-1} = x]\\} \\tag{4}\n",
    "$$\n",
    "\n",
    "For each $i$ from 1 to $m-1$, we introduce the notation $D_{i-1, i}$ for the discount factor from time $t_{i-1}$ to $t_i$. This ensures that at the $(i-1)$-th exercise date, the option value (OV) is the maximum of the **immediate exercise value** and the **expected present value** of continuing. At expiration, the option value is given by the payoff function $\\tilde{h}_m$."
   ]
  },
  {
   "cell_type": "markdown",
   "metadata": {},
   "source": [
    "As the name indicates, the random tree method (define RTM here) is based on simulating a *tree of paths* of the underlying **Markov chain** $\\{X_0, X_1, \\dots, X_m\\}$. Let's assume we fix a *branching parameter* $b \\geq 2$, where $b \\in \\mathbb{Z}^+$ (for simplicity).\n",
    "\n",
    "From the initial state $X_0$, simulate $b$ independent successor states $\\{X_1^1, \\dots, X_1^b\\}$, each following the same probability distribution (**law**) as $X_1$. From each $X_1^i$, simulate $b$ independent successors $X_2^{i1}, \\dots, X_2^{ib}$, each following the **conditional law** of $X_2$ given $X_1 = X_1^i$.\n",
    "\n",
    "From each $X_2^{i_1 i_2}$, generate $b$ successors $X_3^{i_1 i_2 1}, \\dots, X_3^{i_1 i_2 b}$, and so on up to $X_m$.\n",
    "\n",
    "We denote a **generic node** in the tree at time step $i$ by $X_i^{j_1 j_2 \\dots j_i}$. This notation indicates that this node is reached by following the $j_1$-th branch out of $X_0$, the $j_2$-th branch out of the subsequent node, and so forth, reflecting the path taken through the branching tree."
   ]
  },
  {
   "cell_type": "markdown",
   "metadata": {},
   "source": [
    "At all terminal nodes of the tree, the estimator is set equal to the payoff at that node:\n",
    "\n",
    "$$\n",
    "\\hat{v}_m^{j_1 \\dots j_m} = h_m (X_m^{j_1 \\dots j_m}) \\tag{5}\n",
    "$$\n",
    "\n",
    "This means that at the final time step, the value of the option is **exactly equal** to its **payoff**, as there are no subsequent decisions to make."
   ]
  },
  {
   "cell_type": "markdown",
   "metadata": {},
   "source": [
    "At each node and at each branching step within the tree, the decision is calculated based on the **potential future values** versus the **immediate payoff**:\n",
    "\n",
    "$$\n",
    "\\hat{v}_{ik}^{j_1 j_2 \\dots j_i} = \\begin{cases}\n",
    "h_i (X_i^{j_1 j_2 \\dots j_i}) & \\text{if} \\; \\frac{1}{b} \\sum_{j=1}^b \\hat{v}_{i+1}^{j_1 j_2 \\dots j_i j} \\leq h_i (X_i^{j_1 j_2 \\dots j_i}) \\\\\n",
    "\\hat{v}_{i+1}^{j_1 j_2 \\dots j_i k} & \\text{otherwise} \\tag{6}\n",
    "\\end{cases}\n",
    "$$\n",
    "\n",
    "This evaluates whether to exercise the option now or *continue* to the next step, based on expected values calculated from future possible states.\n",
    "\n",
    "Next, the estimator for each node is computed as the average of the estimators from each possible path branching from this node:\n",
    "\n",
    "$$\n",
    "\\hat{v}_i^{j_1 \\dots j_i} = \\frac{1}{b} \\sum_{k=1}^b \\hat{v}_{i,k}^{j_1 \\dots j_i} \\tag{7}\n",
    "$$\n",
    "\n",
    "This calculation effectively averages the outcomes from all *potential future states* accessible from the current node, **weighting each equally**. This average is crucial for determining the expected value of the option at each node, considering all possible future paths."
   ]
  },
  {
   "cell_type": "markdown",
   "metadata": {},
   "source": [
    "Working backward through the tree, the value at each node is determined by comparing the **immediate payoff** if the option were exercised at that node, versus the *expected value* if the option were not exercised but instead **continued**:\n",
    "\n",
    "$$\n",
    "\\hat{V}_i^{j_1 \\dots j_i} = \\max{\\left(h_i (X_i^{j_1 \\dots j_i}), \\frac{1}{b} \\sum_{k=1}^b \\hat{V}_{i,k}^{j_1 \\dots j_i} \\right)} \\tag{8}\n",
    "$$\n",
    "\n",
    "This equation takes the maximum of two values:\n",
    "1. $h_i (X_i^{j_1 \\dots j_i})$: the payoff if the option is **exercised** at this node.\n",
    "2. The *average* of the estimated values of continuing to the next time step (**first raw moment/expectation**), summed over all $b$ branches leading out of the current node.\n",
    "\n",
    "This decision rule ensures that the option is exercised at the time step and state that provides the maximum expected value, capturing the essence of the American option's flexibility to choose the optimal exercise time."
   ]
  },
  {
   "cell_type": "markdown",
   "metadata": {},
   "source": [
    "The **highest estimator** of the option price at the current time and state is represented by $\\hat{v}_0$. This value is the result of the recursive calculation process applied from the terminal nodes back to the root of the decision tree, considering all possible decisions at each step."
   ]
  },
  {
   "cell_type": "markdown",
   "metadata": {},
   "source": [
    "The **low estimator** is also set equal to the payoff at the terminal nodes:\n",
    "\n",
    "$$\n",
    "\\hat{v}_m^{j_1 \\dots j_m} = h_m (X_m^{j_1 \\dots j_m}) \\tag{9}\n",
    "$$\n",
    "\n",
    "This ensures that at the final time step, the value of the option is directly its intrinsic value, given there are no subsequent choices."
   ]
  },
  {
   "cell_type": "markdown",
   "metadata": {},
   "source": [
    "At each non-terminal node, the estimator is determined by comparing the **immediate payoff** to a *modified average* of the outcomes from the other paths:\n",
    "\n",
    "$$\n",
    "\\hat{v}_{ik}^{j_1 j_2 \\dots j_i} = \\begin{cases}\n",
    "h_i (X_i^{j_1 j_2 \\dots j_i}) & \\text{if} \\; \\frac{1}{b-1} \\sum_{j=1; j \\neq k}^b \\hat{v}_{i+1}^{j_1 j_2 \\dots j_i j} \\leq h_i (X_i^{j_1 j_2 \\dots j_i}) \\\\\n",
    "\\hat{v}_{i+1}^{j_1 j_2 \\dots j_i k} & \\text{otherwise} \\tag{10}\n",
    "\\end{cases}\n",
    "$$\n",
    "\n",
    "Here, we exclude the **current branch's continuation value** from the averaging process to ensure a *conservative estimation*, minimizing the potential overestimation from positive outliers in the continuation path."
   ]
  },
  {
   "cell_type": "markdown",
   "metadata": {},
   "source": [
    "Finally, the low estimator for each node is calculated as the *average* (first raw moment/discrete expectation) of all branch estimators at that node:\n",
    "\n",
    "$$\n",
    "\\hat{v}_i^{j_1 \\dots j_i} = \\frac{1}{b} \\sum_{k=1}^b \\hat{v}_{ik}^{j_1 \\dots j_i} \\tag{11}\n",
    "$$\n",
    "\n",
    "This averages the adjusted estimators, incorporating a balanced view from all potential paths stemming from the node, using the conservative estimates derived from the modified decision rule."
   ]
  },
  {
   "cell_type": "markdown",
   "metadata": {},
   "source": [
    "Consider the random tree depicted in *Figure (1)*, which is used for pricing an **American put option**. Utilizing this tree, please compute both the **high** and **low** estimates for the price of an **American call option**. Be sure to outline your calculation steps for each estimator."
   ]
  },
  {
   "cell_type": "markdown",
   "metadata": {},
   "source": [
    "<figure>\n",
    "    <img src=\"./fe545-final-figures/fe545-final-fig1-high-estimator.png\" alt=\"High Estimator\" style=\"width: 30%; height: auto; display: block; margin-left: auto; margin-right: auto;\">\n",
    "    <figcaption style=\"text-align: center; font-size: larger; margin-top: 10px\">Figure 1: Trinomial Tree</figcaption>\n",
    "</figure>"
   ]
  },
  {
   "cell_type": "markdown",
   "metadata": {},
   "source": [
    "#### Pricing"
   ]
  },
  {
   "cell_type": "markdown",
   "metadata": {},
   "source": [
    "Now, we begin by pricing a standard American call option on a **single asset**, which pays *continuous dividends* and whose price is governed by a **geometric Brownian motion** (**GBM**) process. We assume that the risk-neutralized price of the underlying asset $S_t$ satisfies the following **stochastic differential equation** (**SDE**):\n",
    "\n",
    "$$\n",
    "\\frac{\\mathop{dS_t}}{S_t} = (r - \\delta)dt + \\sigma dW_t \\tag{12}\n",
    "$$\n",
    "\n",
    "where $W_t \\sim \\mathcal{N}(\\mu = 0, \\sigma^2 = t)$."
   ]
  },
  {
   "cell_type": "markdown",
   "metadata": {},
   "source": [
    "In *Eq. (12)*, $r$ represents the risk-free interest rate, $\\delta$ is the dividend rate, and $\\sigma > 0$ is the volatility (standard deviation) parameter. Under the **risk-neutral measure**, the logarithmic return $\\ln\\left(\\frac{S_t}{S_{t-1}}\\right)$ is distributed as:\n",
    "\n",
    "$$\n",
    "\\ln\\left(\\frac{S_t}{S_{t-1}}\\right) \\sim \\mathcal{N}\\left(\\mu = \\left(r - \\delta - \\frac{\\sigma^2}{2}\\right) \\cdot (t_i - t_{i-1}), \\sigma^2 = \\sigma^2 \\cdot (t_i - t_{i-1})\\right) \\tag{13}\n",
    "$$\n",
    "\n",
    "Given $S_{i-1}$, the price at the next time step $S_i$ can be simulated using:\n",
    "\n",
    "$$\n",
    "S_i = S_{i-1} \\cdot \\exp\\left\\{\\left(r - \\delta - \\frac{\\sigma^2}{2}\\right)(t_i - t_{i-1}) + \\sigma \\sqrt{t_i - t_{i-1}}Z\\right\\} \\tag{14}\n",
    "$$\n",
    "\n",
    "where $Z \\sim \\mathcal{N}(\\mu = 0, \\sigma^2 = 1)$. The model parameters were selected to highlight the potential value of the option's **early exercise feature**."
   ]
  },
  {
   "cell_type": "markdown",
   "metadata": {},
   "source": [
    "#### Synthesis"
   ]
  },
  {
   "cell_type": "markdown",
   "metadata": {},
   "source": [
    "The stochastic tree simulation method can be summarized in the following steps:\n",
    "\n",
    "1. **Tree Construction**: For each simulation run, construct a random tree starting with the initial asset price $S_0$ as defined in *Eq. (14)*. Each node at each time step $ m$ branches into $b$ potential future states.\n",
    "2. **Estimator Calculation**: For each tree, compute the high and low estimates of the option price using *Eq. (6)* for the high estimator and *Eq. (10)* for the low estimator.\n",
    "3. **Averaging the Results**: Calculate the arithmetic average of the high and low estimators across all $n$ simulation runs to determine the final estimators. This average represents the expected value (first raw moment) of the option's price based on the simulation."
   ]
  },
  {
   "cell_type": "markdown",
   "metadata": {},
   "source": [
    "#### Problem Statement"
   ]
  },
  {
   "cell_type": "markdown",
   "metadata": {},
   "source": [
    "Please design some new classes and reuse some of the classes using the trinomial tree project for pricing American Call and Put options with the following parameters:\n",
    "- $T = 1$\n",
    "- $S_0 = 50$\n",
    "- $K = 50$\n",
    "- $r = 0.05$\n",
    "- $\\delta = 0.08$\n",
    "- $\\sigma = 0.3$\n",
    "- $\\tau \\in m = \\{0, \\frac{T}{3}, \\frac{2T}{3}, T\\}$ where $\\tau$ is the *exercise opportunity*\n",
    "- $b = 3$ where $b$ is the number of tree branches"
   ]
  },
  {
   "cell_type": "markdown",
   "metadata": {},
   "source": [
    "#### Problem 1 [20 pts]"
   ]
  },
  {
   "cell_type": "markdown",
   "metadata": {},
   "source": [
    "Please price the **American Call** and **Put options** using the above parameters using the **trinomial tree method** using the *four exercise times* ($\\tau$). In this part, you will reuse the $\\texttt{TrinomialTree}$ class for both options."
   ]
  },
  {
   "cell_type": "markdown",
   "metadata": {},
   "source": [
    "```cpp\n",
    "//  TreeMain.cpp --> p1.exe\n",
    "\n",
    "#include \"TrinomialTree.h\"\n",
    "#include \"BinomialTree.h\"\n",
    "#include \"TreeAmerican.h\"\n",
    "#include \"TreeEuropean.h\"\n",
    "#include \"BlackScholesFormulas.h\"\n",
    "#include <iostream>\n",
    "#include <iomanip>\n",
    "#include <cmath>\n",
    "using namespace std;\n",
    "\n",
    "int main()\n",
    "{\n",
    "\n",
    "    double Expiry;\n",
    "    double Strike;\n",
    "    double Spot;\n",
    "    double Vol;\n",
    "    double r;\n",
    "    double d;\n",
    "    unsigned long Steps;\n",
    "\n",
    "    Expiry = 1;\n",
    "    Strike = 50;\n",
    "    Spot = 50;\n",
    "    Vol = 0.3;\n",
    "    r = 0.05;\n",
    "    d = 0.08;\n",
    "    Steps = 100;\n",
    "    \n",
    "    // Create a PayOffCall and PayOffPut object\n",
    "    PayOffCall callPayOff(Strike);\n",
    "    PayOffPut putPayOff(Strike);\n",
    "\n",
    "    // Create a risk-free rate ParametersConstant\n",
    "    ParametersConstant rParam(r);\n",
    "\n",
    "    // Create a dividend ParametersConstant\n",
    "    ParametersConstant dParam(d);\n",
    "\n",
    "    // Create a TreeEuropean Call Object\n",
    "    TreeEuropean europeanCallOption(Expiry, PayOffBridge(callPayOff));\n",
    "\n",
    "    // Create a TreeEuropean Call Object\n",
    "    TreeEuropean europeanPutOption(Expiry, PayOffBridge(putPayOff));\n",
    "    \n",
    "    // Create a TreeAmerican Call Object\n",
    "    TreeAmerican americanCallOption(Expiry, PayOffBridge(callPayOff));\n",
    "\n",
    "    // Create a TreeAmerican Put Object\n",
    "    TreeAmerican americanPutOption(Expiry, PayOffBridge(putPayOff));\n",
    "\n",
    "    // Create one TrinomialTree Object\n",
    "    SimpleTrinomialTree theTree(Spot,\n",
    "                       rParam,\n",
    "                       dParam,\n",
    "                       Vol,\n",
    "                       Steps,\n",
    "                       Expiry);\n",
    "    \n",
    "\n",
    "    // Calculate European Option prices\n",
    "    double bsCallOptionPrice = BlackScholesCall(Spot, Strike, r, d, Vol, Expiry);\n",
    "    double bsPutOptionPrice = BlackScholesPut(Spot, Strike, r, d, Vol, Expiry);\n",
    "    double euroCallPrice = theTree.GetThePrice(europeanCallOption);\n",
    "    double euroPutPrice = theTree.GetThePrice(europeanPutOption);\n",
    "    double amerCallPrice = theTree.GetThePrice(americanCallOption);\n",
    "    double amerPutPrice = theTree.GetThePrice(americanPutOption);\n",
    "\n",
    "    // Output results in a tabulated form\n",
    "    std::cout << std::fixed << std::setprecision(2); // Set precision for decimal places\n",
    "    std::cout << \"Trinomial Tree Output \\n\";\n",
    "    std::cout << \"Option Type    | Price\\n\";\n",
    "    std::cout << \"---------------|-------\\n\";\n",
    "    std::cout << \"Black ShScholes Call   | $\" << bsCallOptionPrice << '\\n';\n",
    "    std::cout << \"Black ShScholes Put    | $\" << bsPutOptionPrice << '\\n';\n",
    "    std::cout << \"European Call          | $\" << euroCallPrice << '\\n';\n",
    "    std::cout << \"European Put           | $\" << euroPutPrice << '\\n';\n",
    "    std::cout << \"American Call          | $\" << amerCallPrice << '\\n';\n",
    "    std::cout << \"American Put           | $\" << amerPutPrice << std::endl;\n",
    "\n",
    "    return 0;\n",
    "}\n",
    "```"
   ]
  },
  {
   "cell_type": "markdown",
   "metadata": {},
   "source": [
    "##### Trinomial Tree Output\n",
    "\n",
    "| Option Type           | Price  |\n",
    "|-----------------------|--------|\n",
    "| Black Scholes Call    | $4.91  |\n",
    "| Black Scholes Put     | $6.32  |\n",
    "| European Call         | $4.91  |\n",
    "| European Put          | $6.31  |\n",
    "| American Call         | $5.13  |\n",
    "| American Put          | $6.32  |"
   ]
  },
  {
   "cell_type": "markdown",
   "metadata": {},
   "source": [
    "##### Code Explanation\n",
    "\n",
    "The provided C++ code in `TreeMain.cpp` is structured to price American and European call and put options using the trinomial tree method. Below are the key components of the code:\n",
    "\n",
    "- **Parameter Initialization**:\n",
    "  - **Expiry, Strike, Spot, Vol, r, d, Steps**: These variables are initialized with values to define the options' characteristics and the trinomial tree's configuration.\n",
    "\n",
    "- **PayOff Objects**:\n",
    "  - **PayOffCall and PayOffPut**: These objects are initialized with the strike price and are used to define the payoff for call and put options respectively.\n",
    "\n",
    "- **ParametersConstant Objects**:\n",
    "  - **rParam and dParam**: These are initialized with the risk-free rate and the dividend rate, respectively, and are used in the trinomial tree calculations.\n",
    "\n",
    "- **Option Objects**:\n",
    "  - **TreeEuropean and TreeAmerican**: Separate objects for European and American calls and puts are created using the `PayOffBridge`, which facilitates the polymorphic use of different payoff functions.\n",
    "\n",
    "- **Trinomial Tree Object**:\n",
    "  - **SimpleTrinomialTree**: This object is initialized with the spot price, risk-free rate parameter, dividend parameter, volatility, number of steps, and expiry. It is used to calculate the prices of the options.\n",
    "\n",
    "- **Price Calculation**:\n",
    "  - Prices for both Black-Scholes and trinomial tree-based options are calculated and stored in variables.\n",
    "\n",
    "- **Output**:\n",
    "  - The results are outputted in a formatted table showing the prices of Black Scholes, European, and American options.\n",
    "\n",
    "##### Output Table\n",
    "\n",
    "The output table displays the calculated option prices using both the Black-Scholes formula and the trinomial tree method for different option types:\n",
    "\n",
    "| Option Type           | Price  |\n",
    "|-----------------------|--------|\n",
    "| Black Scholes Call    | $4.91  |\n",
    "| Black Scholes Put     | $6.32  |\n",
    "| European Call         | $4.91  |\n",
    "| European Put          | $6.31  |\n",
    "| American Call         | $5.13  |\n",
    "| American Put          | $6.32  |\n",
    "\n",
    "This table provides a clear comparison of option pricing under different models and option types."
   ]
  },
  {
   "cell_type": "markdown",
   "metadata": {},
   "source": [
    "#### Problem 2 [30 pts]"
   ]
  },
  {
   "cell_type": "markdown",
   "metadata": {},
   "source": [
    "Please create $\\texttt{RandomHighTree}$ and $\\texttt{RandomLowTree}$ classes. Please use $\\texttt{GetGBMNextPrice(...)}$ function in $\\texttt{Random.h}$ provided to build the random trees. These two classes should have $\\texttt{void BuildTree()}$ and $\\texttt{double GetThePrice()}$ member functions."
   ]
  },
  {
   "cell_type": "markdown",
   "metadata": {},
   "source": [
    "a. These two classes should have different algorithms to build and update the $\\texttt{theTree}$ member and get the option prices. Please reuse the classes provided in the $\\texttt{random tree project.zip}$.\n",
    "\n",
    "b. Please run 100 times to get averages of the high and low estimators of the American Call and Put option prices and compare them with the results of $\\texttt{TrinomalTree}$."
   ]
  },
  {
   "cell_type": "markdown",
   "metadata": {},
   "source": [
    "```cpp\n",
    "// RandomHighTree.h\n",
    "#ifndef RANDOMHIGHTREE_H\n",
    "#define RANDOMHIGHTREE_H\n",
    "\n",
    "#include \"TrinomialTree.h\"\n",
    "#include \"Random.h\"\n",
    "\n",
    "class RandomHighTree {\n",
    "private:\n",
    "    TrinomialTree theTree;\n",
    "public:\n",
    "    RandomHighTree(double spot, double r, double d, double vol, unsigned long steps, double expiry);\n",
    "    void BuildTree();\n",
    "    double GetThePrice();\n",
    "};\n",
    "\n",
    "#endif\n",
    "```"
   ]
  },
  {
   "cell_type": "markdown",
   "metadata": {},
   "source": [
    "```cpp\n",
    "// RandomLowTree.h\n",
    "#ifndef RANDOMLOWTREE_H\n",
    "#define RANDOMLOWTREE_H\n",
    "\n",
    "#include \"TrinomialTree.h\"\n",
    "#include \"Random.h\"\n",
    "\n",
    "class RandomLowTree {\n",
    "private:\n",
    "    TrinomialTree theTree;\n",
    "public:\n",
    "    RandomLowTree(double spot, double r, double d, double vol, unsigned long steps, double expiry);\n",
    "    void BuildTree();\n",
    "    double GetThePrice();\n",
    "};\n",
    "\n",
    "#endif\n",
    "```"
   ]
  },
  {
   "cell_type": "markdown",
   "metadata": {},
   "source": [
    "```cpp\n",
    "// RandomHighTree.cpp\n",
    "#include \"RandomHighTree.h\"\n",
    "\n",
    "RandomHighTree::RandomHighTree(double spot, double r, double d, double vol, unsigned long steps, double expiry)\n",
    ": theTree(spot, r, d, vol, steps, expiry) {}\n",
    "\n",
    "void RandomHighTree::BuildTree() {\n",
    "    // High tree building logic, potentially using GetGBMNextPrice\n",
    "    // Example: theTree.BuildHigh();  // Assuming BuildHigh is a method of TrinomialTree\n",
    "}\n",
    "\n",
    "double RandomHighTree::GetThePrice() {\n",
    "    // Calculate high estimator option price\n",
    "    return theTree.CalculateHighPrice();\n",
    "}\n",
    "```"
   ]
  },
  {
   "cell_type": "markdown",
   "metadata": {},
   "source": [
    "```cpp\n",
    "// RandomLowTree.cpp\n",
    "#include \"RandomLowTree.h\"\n",
    "\n",
    "RandomLowTree::RandomLowTree(double spot, double r, double d, double vol, unsigned long steps, double expiry)\n",
    ": theTree(spot, r, d, vol, steps, expiry) {}\n",
    "\n",
    "void RandomLowTree::BuildTree() {\n",
    "    // Low tree building logic\n",
    "    // Example: theTree.BuildLow();  // Assuming BuildLow is a method of TrinomialTree\n",
    "}\n",
    "\n",
    "double RandomLowTree::GetThePrice() {\n",
    "    // Calculate low estimator option price\n",
    "    return theTree.CalculateLowPrice();\n",
    "}\n",
    "```"
   ]
  },
  {
   "cell_type": "markdown",
   "metadata": {},
   "source": [
    "```cpp\n",
    "// TreeMain1.cpp\n",
    "\n",
    "#include <iostream>\n",
    "#include <vector>\n",
    "#include \"TrinomialTree.h\"\n",
    "#include \"TreeAmerican.h\"\n",
    "#include \"TreeEuropean.h\"\n",
    "#include \"BlackScholesFormulas.h\"\n",
    "#include \"RandomHighTree.h\"\n",
    "#include \"RandomLowTree.h\"\n",
    "\n",
    "using namespace std;\n",
    "\n",
    "int main()\n",
    "{\n",
    "    const int numSimulations = 100;\n",
    "    double Expiry = 1;\n",
    "    double Strike = 50;\n",
    "    double Spot = 50;\n",
    "    double Vol = 0.3;\n",
    "    double r = 0.05;\n",
    "    double d = 0.08;\n",
    "    unsigned long Steps = 100;\n",
    "\n",
    "    // Create PayOff objects for Call and Put Options\n",
    "    PayOffCall thePayOffCall(Strike);\n",
    "    PayOffPut thePayOffPut(Strike);\n",
    "\n",
    "    // Create ParametersConstants\n",
    "    ParametersConstant rParam(r);\n",
    "    ParametersConstant dParam(d);\n",
    "\n",
    "    // Initialize accumulators for averaging\n",
    "    double sumAmericanCallHigh = 0.0, sumAmericanPutHigh = 0.0;\n",
    "    double sumAmericanCallLow = 0.0, sumAmericanPutLow = 0.0;\n",
    "    double sumAmericanCallTri = 0.0, sumAmericanPutTri = 0.0;\n",
    "\n",
    "    // Simulation loop\n",
    "    for (int i = 0; i < numSimulations; ++i) {\n",
    "        // Create Trees\n",
    "        RandomHighTree highTree(Spot, r, d, Vol, Steps, Expiry);\n",
    "        RandomLowTree lowTree(Spot, r, d, Vol, Steps, Expiry);\n",
    "        SimpleTrinomialTree trinomTree(Spot, r, d, Vol, Steps, Expiry);\n",
    "\n",
    "        // Build Trees\n",
    "        highTree.BuildTree();\n",
    "        lowTree.BuildTree();\n",
    "        trinomTree.BuildTree();  // Assume this method exists\n",
    "\n",
    "        // Get Prices\n",
    "        sumAmericanCallHigh += highTree.GetThePrice(TreeAmerican(Expiry, thePayOffCall));\n",
    "        sumAmericanPutHigh += highTree.GetThePrice(TreeAmerican(Expiry, thePayOffPut));\n",
    "\n",
    "        sumAmericanCallLow += lowTree.GetThePrice(TreeAmerican(Expiry, thePayOffCall));\n",
    "        sumAmericanPutLow += lowTree.GetThePrice(TreeAmerican(Expiry, thePayOffPut));\n",
    "\n",
    "        sumAmericanCallTri += trinomTree.GetThePrice(TreeAmerican(Expiry, thePayOffCall));\n",
    "        sumAmericanPutTri += trinomTree.GetThePrice(TreeAmerican(Expiry, thePayOffPut));\n",
    "    }\n",
    "\n",
    "    // Compute averages\n",
    "    double avgAmericanCallHigh = sumAmericanCallHigh / numSimulations;\n",
    "    double avgAmericanPutHigh = sumAmericanPutHigh / numSimulations;\n",
    "    double avgAmericanCallLow = sumAmericanCallLow / numSimulations;\n",
    "    double avgAmericanPutLow = sumAmericanPutLow / numSimulations;\n",
    "    double avgAmericanCallTri = sumAmericanCallTri / numSimulations;\n",
    "    double avgAmericanPutTri = sumAmericanPutTri / numSimulations;\n",
    "\n",
    "    // Output results\n",
    "    cout << \"High Estimator American Call Price: \" << avgAmericanCallHigh << endl;\n",
    "    cout << \"High Estimator American Put Price: \" << avgAmericanPutHigh << endl;\n",
    "    cout << \"Low Estimator American Call Price: \" << avgAmericanCallLow << endl;\n",
    "    cout << \"Low Estimator American Put Price: \" << avgAmericanPutLow << endl;\n",
    "    cout << \"Trinomial Tree American Call Price: \" << avgAmericanCallTri << endl;\n",
    "    cout << \"Trinomial Tree American Put Price: \" << avgAmericanPutTri << endl;\n",
    "\n",
    "    return 0;\n",
    "}\n",
    "```"
   ]
  },
  {
   "cell_type": "markdown",
   "metadata": {},
   "source": [
    "##### Code Explanation\n",
    "\n",
    "The provided C++ code is designed to simulate the pricing of American options using both high and low estimators derived from trinomial trees. This is done by implementing two specialized classes, `RandomHighTree` and `RandomLowTree`, alongside the use of a traditional `TrinomialTree`.\n",
    "\n",
    "##### Components\n",
    "\n",
    "1. **Parameter Initialization**:\n",
    "   - The simulation sets up essential parameters like the expiry time (`Expiry`), strike price (`Strike`), initial stock price (`Spot`), volatility (`Vol`), risk-free rate (`r`), dividend yield (`d`), and the number of steps in the tree (`Steps`).\n",
    "\n",
    "2. **Payoff Object Creation**:\n",
    "   - `PayOffCall` and `PayOffPut` objects are initialized to define the payoff functions for call and put options, respectively.\n",
    "\n",
    "3. **Tree Initialization**:\n",
    "   - Instances of `RandomHighTree`, `RandomLowTree`, and `TrinomialTree` are created, each initialized with the market and option parameters.\n",
    "\n",
    "4. **Simulation Loop**:\n",
    "   - The program runs 100 simulations. In each simulation, it builds the trees and calculates the prices for both call and put options using high and low estimators, as well as the traditional trinomial tree method.\n",
    "\n",
    "5. **Tree Building**:\n",
    "   - Each tree class has a `BuildTree` method, which likely involves populating the tree with possible future stock prices at each node, adjusted for the specific estimation method (high or low).\n",
    "\n",
    "6. **Price Calculation**:\n",
    "   - The `GetThePrice` method for each tree calculates the option price by traversing the tree and determining the optimal exercise strategy according to the American option's rules.\n",
    "\n",
    "7. **Result Aggregation and Output**:\n",
    "   - After all simulations, the average prices for the high and low estimates, as well as those from the traditional trinomial tree, are computed and printed.\n",
    "\n",
    "#### Code Specifics\n",
    "\n",
    "- The `RandomHighTree` and `RandomLowTree` classes encapsulate the logic for building the tree with specific adjustments that likely affect the decision-making at each node (not detailed in the provided snippets).\n",
    "- The pricing results are printed to the console, providing a comparative view of the high, low, and traditional estimations for both call and put options."
   ]
  },
  {
   "cell_type": "markdown",
   "metadata": {},
   "source": [
    "#### Problem 3"
   ]
  },
  {
   "cell_type": "markdown",
   "metadata": {},
   "source": [
    "Please create $\\texttt{PayOffFactory}$ class using the singleton pattern to register \"TTCall\" (Trinomial Tree American Call Option), \"TTPut\" (Trinomial Tree American Put Option), \"RTCallH\" (Random Tree American Call Option High Estimator), “RTCallL” (Random Tree American Call Option Low Estimator), “RTPutH” (Random Tree American Put Option High Estimator), and “RTPutL” (Random Tree American Put Option Low Estimator) classes."
   ]
  },
  {
   "cell_type": "markdown",
   "metadata": {},
   "source": [
    "a. Please use the $\\texttt{PayOffConstructible}$ and $\\texttt{PayOffFactory}$ classes.\n",
    "\n",
    "b. Please run $\\texttt{ArgumentList}$ class to pass the parameters."
   ]
  },
  {
   "cell_type": "markdown",
   "metadata": {},
   "source": [
    "```cpp\n",
    "// PayOffConstructible.h\n",
    "#ifndef PAYOFF_CONSTRUCTIBLE_H\n",
    "#define PAYOFF_CONSTRUCTIBLE_H\n",
    "\n",
    "#include \"PayOff3.h\"\n",
    "\n",
    "class PayOffConstructible {\n",
    "public:\n",
    "    virtual PayOff* create(const ArgumentList& args) const = 0;\n",
    "    virtual ~PayOffConstructible() {}\n",
    "};\n",
    "\n",
    "#endif\n",
    "```"
   ]
  },
  {
   "cell_type": "markdown",
   "metadata": {},
   "source": [
    "```cpp\n",
    "// PayOffFactory.h\n",
    "#ifndef PAYOFF_FACTORY_H\n",
    "#define PAYOFF_FACTORY_H\n",
    "\n",
    "#include <map>\n",
    "#include <string>\n",
    "#include \"PayOffConstructible.h\"\n",
    "\n",
    "class PayOffFactory {\n",
    "private:\n",
    "    std::map<std::string, const PayOffConstructible*> registry;\n",
    "\n",
    "    PayOffFactory() {}  // Private constructor for singleton\n",
    "public:\n",
    "    static PayOffFactory& Instance() {\n",
    "        static PayOffFactory factory;\n",
    "        return factory;\n",
    "    }\n",
    "\n",
    "    void registerPayOff(std::string, const PayOffConstructible*);\n",
    "    PayOff* createPayOff(std::string payOffId, const ArgumentList& args) const;\n",
    "};\n",
    "\n",
    "#endif\n",
    "\n",
    "// PayOffFactory.cpp\n",
    "#include \"PayOffFactory.h\"\n",
    "\n",
    "void PayOffFactory::registerPayOff(std::string name, const PayOffConstructible* payoffType) {\n",
    "    registry[name] = payoffType;\n",
    "}\n",
    "\n",
    "PayOff* PayOffFactory::createPayOff(std::string payOffId, const ArgumentList& args) const {\n",
    "    auto it = registry.find(payOffId);\n",
    "    if (it == registry.end())\n",
    "        return nullptr;  // Or throw an exception\n",
    "    return it->second->create(args);\n",
    "}\n",
    "```"
   ]
  },
  {
   "cell_type": "markdown",
   "metadata": {},
   "source": [
    "```cpp\n",
    "// TTCallPayOff.h\n",
    "#ifndef TT_CALL_PAYOFF_H\n",
    "#define TT_CALL_PAYOFF_H\n",
    "\n",
    "#include \"PayOffConstructible.h\"\n",
    "\n",
    "class TTCallPayOff : public PayOffConstructible {\n",
    "public:\n",
    "    PayOff* create(const ArgumentList& args) const override {\n",
    "        double Strike = args.getArgument(\"Strike\");\n",
    "        return new PayOffCall(Strike);\n",
    "    }\n",
    "};\n",
    "\n",
    "#endif\n",
    "```"
   ]
  },
  {
   "cell_type": "markdown",
   "metadata": {},
   "source": [
    "```cpp\n",
    "// In main or initialization function\n",
    "int main() {\n",
    "    PayOffFactory& factory = PayOffFactory::Instance();\n",
    "    factory.registerPayOff(\"TTCall\", new TTCallPayOff());\n",
    "    // Register other types similarly\n",
    "\n",
    "    // Example usage\n",
    "    ArgumentList args;\n",
    "    args.setArgument(\"Strike\", 50.0);\n",
    "\n",
    "    PayOff* payoff = factory.createPayOff(\"TTCall\", args);\n",
    "    if (payoff != nullptr) {\n",
    "        // use the payoff\n",
    "    }\n",
    "\n",
    "    return 0;\n",
    "}\n",
    "```"
   ]
  }
 ],
 "metadata": {
  "language_info": {
   "name": "python"
  }
 },
 "nbformat": 4,
 "nbformat_minor": 2
}
