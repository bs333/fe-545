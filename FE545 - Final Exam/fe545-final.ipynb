{
 "cells": [
  {
   "cell_type": "markdown",
   "metadata": {},
   "source": [
    "### FE545 - Final Exam"
   ]
  },
  {
   "cell_type": "markdown",
   "metadata": {},
   "source": [
    "**Author**: Sid Bhatia\n",
    "\n",
    "**Date**: May 3th, 2024\n",
    "\n",
    "**Pledge**: I pledge my honor that I have abided by the Stevens Honor System.\n",
    "\n",
    "**Professor**: Steve Yang"
   ]
  },
  {
   "cell_type": "markdown",
   "metadata": {},
   "source": [
    "##### Background"
   ]
  },
  {
   "cell_type": "markdown",
   "metadata": {},
   "source": [
    "Tree-based methods can be used for obtaining option prices, which are especially popular for pricing American options. Binomial (BAPM/BOPM), trinomial (TAPM/TOPM), and random tree methods (RTM) can be used to price many options, including plain vanilla options, and also exotic options such as barrier options, digital options, Asian options, and others.\n",
    "\n",
    "We will be pricing American options using TAPM/RT methods via design principles in C++.\n",
    "\n",
    "Pricing a derivative security entails calculating the **expected value of its payoff**. This reduces, in principle, to a problem of *numerical integration*; but in practice this calculation is often difficult for high-dimensional pricing problems.\n",
    "\n",
    "The binomial options pricing model (BOPM) approach has been widely used since it is able to handle a variety of conditions for which other models cannot easily be applied. This mainly since the BOPM is based on the description of an underlying instrument over a period of time rather than a single point. Therefore, it can be used to price Americans that are exercisable $\\forall \\, t \\in [0, T]$."
   ]
  },
  {
   "cell_type": "markdown",
   "metadata": {},
   "source": [
    "The TOPM, proposed by **Phelim Boyle** in '86, is (considered to be) more accurate than BOPM, producing the same results w/fewer steps.\n",
    "\n",
    "**Broadie** and **Glasserman** ('97) proposed the simulated random tree to price Americans, deriving the upper/lower bounds; this combo makes it easier to measure & control error as computational effort increases $(m \\to \\infty)$. The main drawback of RTM is *computational requirements* grow exponentially with $m$, # of exercise dates, applicable only when $m < \\text{big number}$. For $m = \\text{small number}$, RTM works well & shows theme of **mananging scores** of **high/low bias**."
   ]
  },
  {
   "cell_type": "markdown",
   "metadata": {},
   "source": [
    "The typical simulation to Euro pricing is use sims to $\\approx$ the expectation:\n",
    "\n",
    "$$\n",
    "P = e^{-r T} \\mathbb{E}^Q[f(S_T)] \\tag{1}\n",
    "$$\n",
    "\n",
    "where $f(S_T)$ is the payoff function at maturity $T$. For a call, $f(S_T) = (S_T - K)_+$. $r$ denotes the risk-free rate, $K$ is the strike, and $S_r$ is the **terminal stock price**."
   ]
  },
  {
   "cell_type": "markdown",
   "metadata": {},
   "source": [
    "For Americans, the dilemma is as follows:\n",
    "\n",
    "$$\n",
    "P = \\max_{\\tau}\\{e^{-r \\tau} (S_{\\tau} - K)_+\\}, \\; \\forall \\tau \\leq T \\tag{2}\n",
    "$$"
   ]
  },
  {
   "cell_type": "markdown",
   "metadata": {},
   "source": [
    "We discretize this problem where $\\tau \\in \\mathcal{P}$, with $\\mathcal{P} = \\{t_0, t_1, \\dots, t_d\\}$ such that $t_0 < t_1 < \\dots < t_d = T$. For an American option, we simulate a path of asset prices $(S_0, S_1, \\dots, S_T)$. Let $i \\in \\{1, \\dots, d\\}$ correspond to intermediate times $t_i$ in $\\mathcal{P}$.\n",
    "\n",
    "To calculate the **discounted value** of an option for a given simulation path, you first determine the payoff for each path at maturity and then average these results over many simulations. This process helps estimate the expected payoff under stochastic conditions. How do we compute the value along each path?"
   ]
  },
  {
   "cell_type": "markdown",
   "metadata": {},
   "source": [
    "**Broadie** and **Glasserman** (1997) developed a stochastic method to estimate lower and upper bounds for American options. Let $\\tilde{h}_i$ denote the **payoff function** for exercise at $t_i$, depending on $i$. Let $\\tilde{V}_i(x)$ denote the value of the option at $t_i$ given $X_i = x_i$ (assuming the option has **not been exercised**).\n",
    "\n",
    "Why do we care? We have an interest in $\\tilde{V}_0 (X_0)$, which is recursively defined as follows:\n",
    "\n",
    "$$\n",
    "\\tilde{V}_m (x) = \\tilde{h}_m (x) \\tag{3}\n",
    "$$\n",
    "\n",
    "$$\n",
    "\\tilde{V}_{i-1}(x) = \\max\\{\\tilde{h}_{i-1}(x), \\, \\mathbb{E}[D_{i-1, i} \\tilde{V}_i (X_i) \\mid X_{i-1} = x]\\} \\tag{4}\n",
    "$$\n",
    "\n",
    "For each $i$ from 1 to $m-1$, we introduce the notation $D_{i-1, i}$ for the discount factor from time $t_{i-1}$ to $t_i$. This ensures that at the $(i-1)$-th exercise date, the option value (OV) is the maximum of the **immediate exercise value** and the **expected present value** of continuing. At expiration, the option value is given by the payoff function $\\tilde{h}_m$."
   ]
  }
 ],
 "metadata": {
  "language_info": {
   "name": "python"
  }
 },
 "nbformat": 4,
 "nbformat_minor": 2
}
