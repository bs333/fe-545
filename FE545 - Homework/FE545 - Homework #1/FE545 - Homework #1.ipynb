{
 "cells": [
  {
   "cell_type": "markdown",
   "metadata": {},
   "source": [
    "### FE545 - Homework #1"
   ]
  },
  {
   "cell_type": "markdown",
   "metadata": {},
   "source": [
    "**Author**: Sid Bhatia\n",
    "\n",
    "**Date**: February 13th, 2023\n",
    "\n",
    "**Pledge**: I pledge my honor that I have abided by the Stevens Honor System.\n",
    "\n",
    "**Professor**: Steve Yang"
   ]
  },
  {
   "cell_type": "markdown",
   "metadata": {},
   "source": [
    "**European options** define the timeframe when holders of an options contract may exercise their contract rights. The rights for the option holder include buying the underlying asset or selling the underlying asset at the specified contract price - the strike price. With European options, the holder may only exercise their rights on the day of expiration.\n",
    "\n",
    "An European call option gives the owner the right to acquire the underlying security at expiry. For an investor to profit from a call option, the stock’s price, at expiry, has to be trading high enough above the strike price to cover the cost of the option premium. An European put option allows the holder to sell the underlying security at expiry. For an investor to profit from a put option, the stock’s price, at expiry, has to be trading far enough below the strike price to cover the cost of the option premium.\n",
    "\n",
    "This makes European options less complicated than other types of options. Options sellers don’t have to worry about the option getting exercised early. Similarly, the options buyers don't have to spend time trying to determine the optimal time to exercise the contract. They simply wait until the expiration date to decide.\n",
    "\n",
    "Suppose the underlying asset price $S_t$ at time $t$, strike price $K$, and expiration $T$. And then the call and put payoffs (at expiration $t = T$) will be:\n",
    "\n",
    "$$C_T(S_T, K) = (S_T - K)_+ , \\; P_T(S_T, K) = (K - S_T)_+$$\n",
    "\n",
    "Implement PayOff classes in $\\texttt{PayOff.h}$ according to the following template:\n",
    "\n",
    "```cpp\n",
    "#ifndef __PAY_OFF__\n",
    "#define __PAY_OFF__\n",
    "#include <algorithm> // This is needed for the std::max\n",
    "// comparison function, used in the pay-off calculations\n",
    "class PayOff {\n",
    "    public:\n",
    "        PayOff(); // Default (no parameter) constructor\n",
    "        virtual ~PayOff() {}; // Virtual destructor\n",
    "        // Overloaded () operator, turns the PayOff into an abstract\n",
    "        // function object\n",
    "        virtual double operator(const double& S) const = 0;\n",
    "};\n",
    "\n",
    "class BasePayOffParameters {\n",
    "    public:\n",
    "        PayOffParameters(); // Default (no parameter) constructor\n",
    "        virtual ~PayOffParameters() {} = 0; // Virtual destructor\n",
    "}\n",
    "\n",
    "class PayOffParameters : BasePayOffParameters {\n",
    "    public:\n",
    "        PayOffParameters(const double& K);\n",
    "        virtual ~PayOffParameters() {}; // Virtual destructor\n",
    "        double GetStrke();\n",
    "}\n",
    "\n",
    "class PayOffCall : public PayOff {\n",
    "    private:\n",
    "        double K; // Strike price\n",
    "    public:\n",
    "        PayOffCall(const PayOffParameters& Param_);\n",
    "        virtual ~PayOffCall() {};\n",
    "        // Virtual function is now over-ridden\n",
    "        // (not pure-virtual anymore)\n",
    "        virtual double operator(const double& S) const;\n",
    "};\n",
    "\n",
    "class PayOffPut : public PayOff {\n",
    "    private:\n",
    "        double K; // Strike\n",
    "    public:\n",
    "        PayOffPut(const PayOffParameters& Param_);\n",
    "        virtual ~PayOffPut() {};\n",
    "        virtual double operator(const double& S) const;\n",
    "};\n",
    "\n",
    "#endif"
   ]
  },
  {
   "cell_type": "markdown",
   "metadata": {},
   "source": [
    "A **double digital option** is a particular variety of option (a financial derivative). At maturity, the payoff is 1 if the spot price of the underlying asset is between two numbers, the lower and upper strikes of the option; otherwise, it is 0. \n",
    "\n",
    "A double digital option is similar to the exotic option with a few exceptions. for instance a double digital option has two strike prices that is the expected price during the trade season. The option has two types of strikes namely the lower and the upper strikes.\n",
    "\n",
    "A double digital with lower strike $K_1$ and upper strike $K_2$ can be replicated by going long a digital option with strike $K_1$ and short another digital option with strike $K_2$.\n",
    "\n",
    "For this assignment, you need to define a derived class called $\\texttt{PayOffDoubleDigital}$ from the base class called $\\texttt{PayOff}$ which implements the the PayOff operator according to formula below:\n",
    "\n",
    "$$D_T = \\begin{cases} 0 & \\text{for} \\; S_T \\geq K_2 \\\\ 0 & \\text{for} \\; S_T \\leq K_1 \\\\ 1 & \\text{otherwise} \\end{cases} $$"
   ]
  },
  {
   "cell_type": "markdown",
   "metadata": {},
   "source": [
    "The class $\\texttt{DoubleDigital.h}$ should follow the following prototype:\n",
    "\n",
    "```cpp\n",
    "#ifndef __PayOffDoubleDigital__\n",
    "#define __PayOffDoubleDigital__\n",
    "#include <vector>\n",
    "#include \"PayOff.h\"\n",
    "\n",
    "class DoubleDigitalPayOffParameters : BasePayOffParameters {\n",
    "    public:\n",
    "        DoubleDigitalPayOffParameters(const double& K_1, const double& K_2)\n",
    "        virtual ~PayOffParameters() {}; // Virtual destructor\n",
    "        double GetLowerStrke();\n",
    "        double GetUpperStrike();\n",
    "}\n",
    "\n",
    "class PayOffDoubleDigital : public PayOff {\n",
    "    private:\n",
    "        double K1; // Strike lower level\n",
    "        double K2; // Strike upper level\n",
    "    public:\n",
    "        PayOffDoubleDigital(PayOffParameter Param_);\n",
    "        virtual ~PayOffDoubleDigital() {};\n",
    "        // Pay-off operator (this will determine arithmetic or geometric)\n",
    "        virtual double operator(const double& S) const;\n",
    "};\n",
    "\n",
    "#endif"
   ]
  },
  {
   "cell_type": "markdown",
   "metadata": {},
   "source": [
    "You will also need to implement a $\\texttt{SimpleMonteCarlo}$ class with a function to implement the simulation procedure:\n",
    "\n",
    "```cpp\n",
    "#ifndef __Option_Class__SimpleMonteCarlo__\n",
    "#define __Option_Class__SimpleMonteCarlo__\n",
    "\n",
    "#include <iostream>\n",
    "#include \"DoubleDigital.h\"\n",
    "\n",
    "double SimpleMonteCarlo(const PayOff& ThePayOff_,\n",
    "                        double Spot,\n",
    "                        double Vol,\n",
    "                        double r,\n",
    "                        unsigned long NumberOfPaths);\n",
    "    \n",
    "#endif /* defined(__Option_Class__SimpleMonteCarlo__) */"
   ]
  },
  {
   "cell_type": "markdown",
   "metadata": {},
   "source": [
    "Overall, your new option pricer should include the following files:\n",
    "- Random.h\n",
    "- Random.cpp\n",
    "- PayOff.h\n",
    "- PayOff.cpp\n",
    "- DoubleDigital.h\n",
    "- DoubleDigital.cpp\n",
    "- SimpleMC.h\n",
    "- Simple MC.cpp\n",
    "- DDMain.cpp"
   ]
  },
  {
   "cell_type": "markdown",
   "metadata": {},
   "source": [
    "Please use the following parameter and generate Double Digital option price:\n",
    "\n",
    "$$T = 1 \\\\ S(0) = 50 \\\\ K_1 = 43 \\\\ K_2 = 57 \\\\ \\sigma = 0.30 \\\\ r = 0.05$$\n",
    "\n",
    "Please run the simulation for 200 times to calculate expected double digital option price, and compare it with the European put and call options with strike price $K = 50$ (note all other parameters are the same as the Double Digital option)."
   ]
  }
 ],
 "metadata": {
  "language_info": {
   "name": "python"
  }
 },
 "nbformat": 4,
 "nbformat_minor": 2
}
