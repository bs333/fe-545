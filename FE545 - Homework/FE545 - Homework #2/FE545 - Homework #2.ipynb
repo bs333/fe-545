{
 "cells": [
  {
   "cell_type": "markdown",
   "metadata": {},
   "source": [
    "### FE545 - Homework #2"
   ]
  },
  {
   "cell_type": "markdown",
   "metadata": {},
   "source": [
    "**Author**: Sid Bhatia\n",
    "\n",
    "**Date**: March 5th, 2023\n",
    "\n",
    "**Pledge**: I pledge my honor that I have abided by the Stevens Honor System.\n",
    "\n",
    "**Professor**: Steve Yang"
   ]
  },
  {
   "cell_type": "markdown",
   "metadata": {},
   "source": [
    "An **Asian option** is a type of *exotic option*. Unlike a vanilla European option where the price of the option is dependent upon the price of the underlying asset at expiry, an Asian option pay-off is a function of multiple points up to and including the price at expiry. Thus it is “path-dependent” as the price relies on knowing how the underlying behaved at certain points before expiry. Asian options in particular base their price off the mean average price of these sampled points. To simplify the problem, we will consider equally distributed sample points beginning at time and ending at maturity,\n",
    "\n",
    "In this problem, we will consider Geometric mean $A$ of the spot prices we use the following formula:\n",
    "\n",
    "$$\n",
    "A(0, T) = \\exp{\\left( \\frac{1}{N} \\sum_{i = 1}^N \\log(S(t_i)) \\right)}\n",
    "$$\n",
    "\n",
    "Unlike in the vanilla European option Monte Carlo case we have learned in class, where we only needed to generate multiple spot values at expiry, we now need to generate multiple spot paths, each sampled at the correct points. Thus, instead of providing a double value representing spot to our option, we now need to provide a $\\texttt{std::vector<double>}$ (i.e. a vector of double values), each element of which represents a sample of the spot price on a particular path. We will still be modeling our asset price path via a Geometric Brownian Motion (GBM), and we will create each path by adding the correct drift and variance at each step in order to maintain the properties of GBM."
   ]
  },
  {
   "cell_type": "markdown",
   "metadata": {},
   "source": [
    "Implement **PayOff classes** according to the following template:\n",
    "\n",
    "```cpp\n",
    "#ifndef __PAY_OFF__\n",
    "#define __PAY_OFF__\n",
    "\n",
    "#include <algorithm> // This is needed for the std::max  comparison function, used in the pay-off calculations\n",
    "\n",
    "class PayOff {\n",
    "    public:\n",
    "        PayOff(); // Default (no parameter) constructor\n",
    "        virtual ~PayOff() {}; // Virtual destructor\n",
    "        // Overloaded () operator, turns the PayOff into an abstract\n",
    "        // function object\n",
    "        virtual double operator(const double& S) const = 0;\n",
    "};\n",
    "\n",
    "class PayOffCall : public PayOff {\n",
    "    public:\n",
    "        PayOffCall(const double& K_);\n",
    "        virtual ~PayOffCall() {};\n",
    "        // Virtual function is now over-ridden (not pure-virtual anymore)\n",
    "        virtual double operator(const double& S) const;\n",
    "\n",
    "    private:\n",
    "        double K; // Strike price  \n",
    "};\n",
    "\n",
    "class PayOffPut : public PayOff {\n",
    "    public:\n",
    "        PayOffPut(const double& K_);\n",
    "        virtual ~PayOffPut() {};\n",
    "        virtual double operator(const double& S) const;\n",
    "    private:\n",
    "        double K; // Strike\n",
    "};\n",
    "\n",
    "#endif  \n",
    "```"
   ]
  },
  {
   "cell_type": "markdown",
   "metadata": {},
   "source": [
    "For this assignment, you need to define a base pure abstract class called $\\texttt{AsianOption}$ and a derived class called $\\texttt{AsianOptionGeometric}$ which implements the **PayOff operator** according to formula (1).\n",
    "\n",
    "```cpp\n",
    "#ifndef __Asian_Option__\n",
    "#define __Asian_Option__\n",
    "\n",
    "#include <vector>\n",
    "#include \"PayOff.h\"\n",
    "\n",
    "class AsianOption {\n",
    "    public:\n",
    "        AsianOption(PayOff* _pay_off);\n",
    "        virtual ~AsianOption() {};\n",
    "        // Pure virtual pay-off operator (this will determine arithmetic or geometric\n",
    "        double OptionPayOff(const std::vector<double>& spot_prices);\n",
    "\n",
    "    protected:\n",
    "        PayOff* pay_off; // Pay-off class (in this instance call or put)\n",
    "};\n",
    "\n",
    "class AsianOptionGeometric : public AsianOption {\n",
    "    public:\n",
    "        AsianOptionGeometric(PayOff* _pay_off);\n",
    "        virtual ~AsianOptionGeometric() {};\n",
    "        // Overide the pure virtual function to produce geometric Asian Option\n",
    "        virtual double OptionPayOff(const std::vector<double>& spot_prices)\n",
    "};\n",
    "\n",
    "#endif\n",
    "```"
   ]
  }
 ],
 "metadata": {
  "language_info": {
   "name": "python"
  }
 },
 "nbformat": 4,
 "nbformat_minor": 2
}
