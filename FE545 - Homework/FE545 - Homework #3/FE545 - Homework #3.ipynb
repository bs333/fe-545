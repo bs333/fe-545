{
 "cells": [
  {
   "cell_type": "markdown",
   "metadata": {},
   "source": [
    "### FE545 - Homework #3"
   ]
  },
  {
   "cell_type": "markdown",
   "metadata": {},
   "source": [
    "**Author**: Sid Bhatia\n",
    "\n",
    "**Date**: April 6th, 2023\n",
    "\n",
    "**Pledge**: I pledge my honor that I have abided by the Stevens Honor System.\n",
    "\n",
    "**Professor**: Steve Yang"
   ]
  },
  {
   "cell_type": "markdown",
   "metadata": {},
   "source": [
    "#### Problem 1"
   ]
  },
  {
   "cell_type": "markdown",
   "metadata": {},
   "source": [
    "The **trinomial** option pricing model is an option pricing model incorporating three possible values that an underlying asset can have in one time period. The three possible values the underlying asset can have in a time period may be greater than, the same as, or less than the current value. The trinomial model uses an iterative procedure, allowing for the specification of nodes, or points in time, during the time span between the valuation date and the option’s expiration date.\n",
    "\n",
    "The trinomial option pricing model, proposed by *Phelim Boyle* in 1986, is considered to be more accurate than the binomial model, and will compute the same results, but in fewer steps. However, the trinomial model has not gained as much popularity as the other models.\n",
    "\n",
    "The trinomial option pricing model differs from the binomial option pricing model in one key aspect by incorporating another possible value in one time period. Under the binomial option pricing model, it is assumed that the value of the underlying asset will either be greater than or less than, its current value.\n",
    "\n",
    "The trinomial model, on the other hand, incorporates a third possible value, which incorporates a zero change in value over a time period. This assumption makes the trinomial model more relevant to real life situations, as it is possible that the value of an underlying asset may not change over a time period, such as a month or a year.\n",
    "\n",
    "Under the trinomial method, the underlying stock price is modeled as a recombining tree, where, at each node the price has **three possible paths**: an up, down and stable or middle path."
   ]
  },
  {
   "cell_type": "markdown",
   "metadata": {},
   "source": [
    "We will use a trinomial tree model defined by\n",
    "\n",
    "$$\n",
    "S(t + \\Delta t) = \\begin{cases} \n",
    "\n",
    "S(t)u & \\text{w.p} & p_u \\\\\n",
    "S(t) & \\text{w.p} & 1 - p_u - p_d \\\\ \\tag{1}\n",
    "S(t)d & \\text{w.p} & p_d\n",
    "\n",
    "\\end{cases}\n",
    "$$\n",
    "\n",
    "$$\n",
    "\\\\[20pt]\n",
    "$$\n",
    "\n",
    "$$\n",
    "\\mathbb{E}[S(t_{i + 1}) \\mid S(t_i)] = e^{r\\Delta t}S(t_i)\n",
    "\n",
    "\\\\[5pt] \\tag{2}\n",
    "\n",
    "\\mathbb{V}[S(t_{i + 1}) \\mid S(t_i)] = \\Delta t S^2(t_i) \\sigma^2 + \\mathcal{O}(\\Delta t) \n",
    "$$"
   ]
  },
  {
   "cell_type": "markdown",
   "metadata": {},
   "source": [
    "The expectation & variance (*Condition 2*) are/is a **standard equilibrium** or **no arbitrage condition**: it states that the average return from the asset should be equal to the risk free-return. It can be re-written in the following explicit form:\n",
    "\n",
    "$$\n",
    "1 - p_u - p_d + p_u u + p_d d = e^{r \\Delta t}\n",
    "$$\n",
    "\n",
    "Conditions (2, 4) impose two constraints on 4 parameters of the tree. An extra constraint comes from the requirement that the size of the upward jump is the reciprocal of the size of the downward jump, $$ud = 1 \\tag{3}$$\n",
    "\n",
    "While  this condition is not always used for a trinomial tree construction, it greatly simplifies the complexity of the numerical scheme: it leads to a **recombining tree**, which has the number of nodes growing *polynomially* with the number of levels rather than *exponentially*."
   ]
  },
  {
   "cell_type": "markdown",
   "metadata": {},
   "source": [
    "Given the knowledge of **jump sizes** $u, d$ and the **transition probabilities** $p_u, p_d$, it is now possible to find the value of the underlying asset $S$ for any sequence of price movements. A *directed graph* with nodes labeled by asset prices and edges connecting nodes s separated by one time step and a single price jump is the desired trinomial pricing tree, see **Figure 1**:\n",
    "\n",
    "<figure>\n",
    "    <img src=\"./fe545-hw3-figures/fe545-hw3-figure1.png\" alt=\"Trinomial Tree\" style=\"width: 50%; display: block; margin-left: auto; margin-right: auto;\">\n",
    "    <figcaption style=\"text-align: center; font-size: larger; margin-top: 10px\">Figure 1: Trinomial Tree</figcaption>\n",
    "</figure>"
   ]
  }
 ],
 "metadata": {
  "language_info": {
   "name": "python"
  }
 },
 "nbformat": 4,
 "nbformat_minor": 2
}
