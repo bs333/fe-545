{
 "cells": [
  {
   "cell_type": "markdown",
   "metadata": {},
   "source": [
    "### FE545 - Homework #4"
   ]
  },
  {
   "cell_type": "markdown",
   "metadata": {},
   "source": [
    "**Author**: Sid Bhatia\n",
    "\n",
    "**Date**: April 6th, 2023\n",
    "\n",
    "**Pledge**: I pledge my honor that I have abided by the Stevens Honor System.\n",
    "\n",
    "**Professor**: Steve Yang"
   ]
  },
  {
   "cell_type": "markdown",
   "metadata": {},
   "source": [
    "#### Problem 1"
   ]
  },
  {
   "cell_type": "markdown",
   "metadata": {},
   "source": [
    "Pricing a derivative security entails calculating the *expected discounted value* of its *payoff*. This reduces, in principle, to a problem of numerical integration; but in practice this calculation is often difficult for high-dimensional pricing problems. \n",
    "\n",
    "**Broadie** and **Glasserman** (1997)  proposed the method of the simulated tree to price American options, which can derive the upper and lower bounds for American options. This combination makes it possible to measure and control errors as the computational effort increases. \n",
    "\n",
    "The main drawback of the random tree method is that its computational requirements grow exponentially in the number of exercise dates $m$, so the method is applicable only when $m$ is small. Nevertheless, for problems with small $m$, it is very effective, and it also serves to illustrate a theme of managing sources of high and low bias."
   ]
  },
  {
   "cell_type": "markdown",
   "metadata": {},
   "source": [
    "##### High Estimator"
   ]
  },
  {
   "cell_type": "markdown",
   "metadata": {},
   "source": [
    "As its name suggests, the random tree method is based on simulating a tree of paths of the underlying **Markov Chain** $X_0, X_1, \\dots, X_m$. Fix a branching parameter $b \\geq 2$. From the initial state $X_0$, simulate $b$ independent successor states  $X_1^1, \\dots, X_1^B$ all having the **law** of $X_1$. For each $X_1^i$, simulate $b$ independent successors $X_1^{i1}, \\dots X_1^{ib}$ from the **conditional law** of $X_2$ given $X_1 = X_1^i$. From each $X_2^{i_1 i_2}$, generate $b$ successors $X_3^{i_1 i_2 1}, \\dots X_3^{i_1 i_2 b}$, and so on. We denote a *generic node* in the tree at time step $i$ by $X_i^{j_1 j_2 \\dots j_i}$. The superscript indicates that this node is reached by following the $j$-th branch out of $X_0$, the $j_2$-th branch out of the next node, and so on. \n",
    "\n",
    "Although it is not essential that the branching parameter remain fixed across time steps, this is a convenient simplification in discussing the method. From the random tree method we define high and low estimators at each node by backward induction.\n",
    "\n",
    "We use **formulation 2**. Thus, $\\hat{h}_i$ is the discounted payoff function at the $i$-th exercise date, and the discounted option value satisfies $\\hat{V}_m = \\hat{h}_m$,\n",
    "\n",
    "$$\n",
    "\\tilde{V}_i(x) = \\max{\\left(\\tilde{h}_i(x), \\mathbb{E}^Q[\\tilde{V}_{i+1}(X_{i+1}) \\mid X_i = x]\\right)}, \\; i = 1, \\dots, m - 1 \\tag{3}\n",
    "$$"
   ]
  },
  {
   "cell_type": "markdown",
   "metadata": {},
   "source": [
    "Write $\\hat{V}_i^{j_i \\dots j_i}$ for the **value of the high estimator** at node $X_i^{j_i \\dots j_i}$. At the terminal nodes, we set\n",
    "\n",
    "$$\n",
    "\\hat{V}_i^{j_1 \\dots j_m} h_m (X_m^{j_1 \\dots j_m}). \\tag{4}\n",
    "$$\n",
    "\n",
    "Working backward, we then set\n",
    "\n",
    "$$\n",
    "\\hat{V}_i^{j_1 \\dots j_i} = \\max{\\left( h_i (X_i^{j_1 \\dots j_i}), \\; \\frac{1}{b} \\sum_{j=1}^b \\hat{v}_{i+1}^{j_1 \\dots j_i j}\\right)}. \\tag{5}\n",
    "$$"
   ]
  },
  {
   "cell_type": "markdown",
   "metadata": {},
   "source": [
    "**Formulation 5** is based on successor nodes, so the estimator is unfairly peeking into the future in making its decision. To remove this source of bias, we need to separate the exercise decision from the value received upon continuation. A new estimator can be defined as follows:"
   ]
  },
  {
   "cell_type": "markdown",
   "metadata": {},
   "source": [
    "At all terminal nodes, set the estimator equal to the payoff at that node:\n",
    "\n",
    "$$\n",
    "\\hat{v}_m^{j_1 \\dots j_m} = h_m(X_m^{j_1 \\dots j_m}) \\tag{6}.\n",
    "$$\n",
    "\n",
    "At node $j_1, j_2, \\dots j_i$ at time step $i$, and for each $k = 1, \\dots, b$, set\n",
    "\n",
    "$$\n",
    "\\hat{v}_{ik}^{j_1 j_2 \\dots j_i} = \\begin{cases}\n",
    "\n",
    "h_i (X_i^{j_1 j_2 \\dots j_i}) & \\; \\text{if} \\; \\frac{1}{b} \\sum_{j = 1}^b \\hat{v}_{i + 1}^{j_1 j_2 \\dots j_i j} \\leq h_i (X_i^{j_1 j_2 \\dots j_i}); \\tag{7} \\\\\n",
    "\n",
    "\\hat{v}_{i + 1}^{j_1 j_2 \\dots j_i k} & \\; \\text{otherwise}\n",
    "\n",
    "\\end{cases}\n",
    "$$\n",
    "\n",
    "Then set\n",
    "\n",
    "$$\n",
    "\\hat{v}_i^{j_1 \\dots j_i} = \\frac{1}{b} \\sum_{k=1}^b \\hat{v}_{i,k}^{j_1 \\dots j_i} \\tag{8}\n",
    "$$\n",
    "\n",
    "Working backward, we then set\n",
    "\n",
    "$$\n",
    "\\hat{V}_i^{j_1 \\dots j_i} = \\max{\\left( h_i(X_i^{j_1 \\dots j_1}), \\frac{1}{b} \\sum_{k=1}^b \\hat{V}_{i,k}^{j_1 \\dots j_i})\\right) } \\tag{9}\n",
    "$$\n",
    "\n",
    "The high estimator of the option price at the current time and state is $\\hat{v}_0$."
   ]
  },
  {
   "cell_type": "markdown",
   "metadata": {},
   "source": [
    "In other words, the high estimator is simply the result of applying **ordinary dynamic programming** to the *random tree*, assigning equal weight to each branch. Its calculation is illustrated in Figure 1 with $h_i(x) = (x - 100)_+$.\n",
    "\n",
    "A simple induction argument demonstrates that the high estimator is **indeed biased high** at every node, in the sense that\n",
    "\n",
    "$$\n",
    "\\mathbf{E}^Q[\\hat{V}_i^{j_1 \\dots j_i} \\mid X_i^{j_1 \\dots j_i}] = \\mathbf{E}[V_i^{j_i \\dots j_i}] \\tag{10}\n",
    "$$"
   ]
  },
  {
   "cell_type": "markdown",
   "metadata": {},
   "source": [
    "<figure>\n",
    "    <img src=\"./fe545-hw4-figures/fe545-hw4-figure0.png\" alt=\"Trinomial Tree\" style=\"width: 30%; height: auto; display: block; margin-left: auto; margin-right: auto;\">\n",
    "    <figcaption style=\"text-align: center; font-size: larger; margin-top: 10px\">Figure 1: High Estimator K = 100</figcaption>\n",
    "</figure>"
   ]
  },
  {
   "cell_type": "markdown",
   "metadata": {},
   "source": [
    "-----"
   ]
  },
  {
   "cell_type": "markdown",
   "metadata": {},
   "source": [
    "The low estimator is defined as follows. At all terminal nodes, set the estimator equal to the payoff at that node:\n",
    "\n",
    "$$\n",
    "\\hat{v}_m^{j_1 j_2 \\dots j_m} = h_m (X_m^{j_1 j_2 \\dots j_m}) \\tag{11}\n",
    "$$\n",
    "\n",
    "At each node $j_1, j_2, \\dots, j_i$ at time step $i$, and for each $k = 1, \\dots b$, set\n",
    "\n",
    "$$\n",
    "\\hat{v}_{ik}^{j_1 j_2 \\dots j_i} = \\begin{cases}\n",
    "\n",
    "h_i (X_i^{j_1 j_2 \\dots j_i}) & \\; \\text{if} \\; \\frac{1}{b - 1} \\sum_{j=1; j \\neq k}^b \\hat{v}_{i+1}^{j_1 j_2 \\dots j_i j} \\leq h_i(X_i^{j_1 j_2 \\dots j_i}); \\tag{12}\n",
    "\n",
    "\\\\\n",
    "\n",
    "\\hat{v}_{i+1}^{j_1 j_2 \\dots j_i k} & \\; \\text{otherwise}\n",
    "\n",
    "\\end{cases}\n",
    "$$\n",
    "\n",
    "We then set\n",
    "\n",
    "$$\n",
    "\\hat{v}_i^{j_1 j_2 \\dots j_i} = \\frac{1}{b} \\sum_{k=1}^b \\hat{v}_{ik}^{j_1 j_2 \\dots j_i}. \\tag{13}\n",
    "$$\n",
    "\n",
    "The low estimator of the option price at the current time and state is $\\hat{v}_o$."
   ]
  },
  {
   "cell_type": "markdown",
   "metadata": {},
   "source": [
    "Assume a random tree for pricing American call option is given in Figure 1. Please use the random tree in Figure 1 to calculate the high and low estimate of the American call option price with a **strike price $K = 50$**. Please show your steps for both the high estimator and low estimator.\n",
    "\n",
    "Note: You do not need to write C++ program to get the price, but rather manually calculating the estimators following the algorithms introduced in class."
   ]
  },
  {
   "cell_type": "code",
   "execution_count": 4,
   "metadata": {},
   "outputs": [
    {
     "data": {
      "text/plain": [
       "[20.722235221892475, 39.09472522884107, 62.24009024456676, 91.39824580805166]"
      ]
     },
     "execution_count": 4,
     "metadata": {},
     "output_type": "execute_result"
    }
   ],
   "source": [
    "import math\n",
    "\n",
    "def compute_terminal_nodes(S0, K, r, sigma, T, n):\n",
    "    # Time delta per step\n",
    "    dt = T / n\n",
    "    # Compute up and down factors\n",
    "    u = math.exp(sigma * math.sqrt(dt))\n",
    "    d = 1 / u\n",
    "    # Compute risk-neutral probability\n",
    "    p = (math.exp(r * dt) - d) / (u - d)\n",
    "    \n",
    "    # Initialize terminal nodes list\n",
    "    terminal_nodes = []\n",
    "    \n",
    "    # Calculate terminal nodes using the binomial model formula\n",
    "    for i in range(n+1):\n",
    "        # The stock price at the ith terminal node\n",
    "        ST = S0 * (u ** i) * (d ** (n - i))\n",
    "        # Payoff of a call option at the ith terminal node\n",
    "        payoff = max(ST - K, 0)\n",
    "        terminal_nodes.append(payoff)\n",
    "    \n",
    "    return terminal_nodes\n",
    "\n",
    "# Test parameters\n",
    "S0 = 50  # Current stock price\n",
    "K = 50    # Strike price\n",
    "r = 0.05  # Risk-free interest rate\n",
    "sigma = 0.2  # Volatility\n",
    "T = 1     # Time to expiration in years\n",
    "n = 3     # Number of time steps\n",
    "\n",
    "# Compute terminal nodes\n",
    "terminal_nodes = compute_terminal_nodes(S0, K, r, sigma, T, n)\n",
    "terminal_nodes"
   ]
  },
  {
   "cell_type": "code",
   "execution_count": 1,
   "metadata": {},
   "outputs": [
    {
     "ename": "RecursionError",
     "evalue": "maximum recursion depth exceeded",
     "output_type": "error",
     "traceback": [
      "\u001b[1;31m---------------------------------------------------------------------------\u001b[0m",
      "\u001b[1;31mRecursionError\u001b[0m                            Traceback (most recent call last)",
      "Cell \u001b[1;32mIn[1], line 32\u001b[0m\n\u001b[0;32m     29\u001b[0m         \u001b[38;5;28;01mreturn\u001b[39;00m \u001b[38;5;28msum\u001b[39m(low_values) \u001b[38;5;241m/\u001b[39m b\n\u001b[0;32m     31\u001b[0m \u001b[38;5;66;03m# Calculate high estimator\u001b[39;00m\n\u001b[1;32m---> 32\u001b[0m high_estimator \u001b[38;5;241m=\u001b[39m \u001b[43mcalc_node_value\u001b[49m\u001b[43m(\u001b[49m\u001b[38;5;241;43m0\u001b[39;49m\u001b[43m,\u001b[49m\u001b[43m \u001b[49m\u001b[38;5;28;43mtuple\u001b[39;49m\u001b[43m(\u001b[49m\u001b[43m)\u001b[49m\u001b[43m,\u001b[49m\u001b[43m \u001b[49m\u001b[43mterminal_payoffs\u001b[49m\u001b[43m,\u001b[49m\u001b[43m \u001b[49m\u001b[43mb\u001b[49m\u001b[43m,\u001b[49m\u001b[43m \u001b[49m\u001b[38;5;28;43;01mTrue\u001b[39;49;00m\u001b[43m)\u001b[49m\n\u001b[0;32m     34\u001b[0m \u001b[38;5;66;03m# Calculate low estimator\u001b[39;00m\n\u001b[0;32m     35\u001b[0m low_estimator \u001b[38;5;241m=\u001b[39m calc_node_value(\u001b[38;5;241m0\u001b[39m, \u001b[38;5;28mtuple\u001b[39m(), terminal_payoffs, b, \u001b[38;5;28;01mFalse\u001b[39;00m)\n",
      "Cell \u001b[1;32mIn[1], line 22\u001b[0m, in \u001b[0;36mcalc_node_value\u001b[1;34m(i, path, terminal_payoffs, b, is_high_estimator)\u001b[0m\n\u001b[0;32m     19\u001b[0m     \u001b[38;5;28;01mreturn\u001b[39;00m terminal_payoffs[(i, \u001b[38;5;241m*\u001b[39mpath)]\n\u001b[0;32m     21\u001b[0m \u001b[38;5;66;03m# Compute the value at the node\u001b[39;00m\n\u001b[1;32m---> 22\u001b[0m successors \u001b[38;5;241m=\u001b[39m \u001b[43m[\u001b[49m\u001b[43mcalc_node_value\u001b[49m\u001b[43m(\u001b[49m\u001b[43mi\u001b[49m\u001b[43m \u001b[49m\u001b[38;5;241;43m+\u001b[39;49m\u001b[43m \u001b[49m\u001b[38;5;241;43m1\u001b[39;49m\u001b[43m,\u001b[49m\u001b[43m \u001b[49m\u001b[43mpath\u001b[49m\u001b[43m \u001b[49m\u001b[38;5;241;43m+\u001b[39;49m\u001b[43m \u001b[49m\u001b[43m(\u001b[49m\u001b[43mj\u001b[49m\u001b[43m,\u001b[49m\u001b[43m)\u001b[49m\u001b[43m,\u001b[49m\u001b[43m \u001b[49m\u001b[43mterminal_payoffs\u001b[49m\u001b[43m,\u001b[49m\u001b[43m \u001b[49m\u001b[43mb\u001b[49m\u001b[43m,\u001b[49m\u001b[43m \u001b[49m\u001b[43mis_high_estimator\u001b[49m\u001b[43m)\u001b[49m\u001b[43m \u001b[49m\u001b[38;5;28;43;01mfor\u001b[39;49;00m\u001b[43m \u001b[49m\u001b[43mj\u001b[49m\u001b[43m \u001b[49m\u001b[38;5;129;43;01min\u001b[39;49;00m\u001b[43m \u001b[49m\u001b[38;5;28;43mrange\u001b[39;49m\u001b[43m(\u001b[49m\u001b[38;5;241;43m1\u001b[39;49m\u001b[43m,\u001b[49m\u001b[43m \u001b[49m\u001b[43mb\u001b[49m\u001b[43m \u001b[49m\u001b[38;5;241;43m+\u001b[39;49m\u001b[43m \u001b[49m\u001b[38;5;241;43m1\u001b[39;49m\u001b[43m)\u001b[49m\u001b[43m]\u001b[49m\n\u001b[0;32m     23\u001b[0m h_i \u001b[38;5;241m=\u001b[39m \u001b[38;5;28mmax\u001b[39m(terminal_nodes\u001b[38;5;241m.\u001b[39mget((i, \u001b[38;5;241m*\u001b[39mpath), \u001b[38;5;241m0\u001b[39m) \u001b[38;5;241m-\u001b[39m K, \u001b[38;5;241m0\u001b[39m)  \u001b[38;5;66;03m# Placeholder for h_i\u001b[39;00m\n\u001b[0;32m     25\u001b[0m \u001b[38;5;28;01mif\u001b[39;00m is_high_estimator:\n",
      "Cell \u001b[1;32mIn[1], line 22\u001b[0m, in \u001b[0;36m<listcomp>\u001b[1;34m(.0)\u001b[0m\n\u001b[0;32m     19\u001b[0m     \u001b[38;5;28;01mreturn\u001b[39;00m terminal_payoffs[(i, \u001b[38;5;241m*\u001b[39mpath)]\n\u001b[0;32m     21\u001b[0m \u001b[38;5;66;03m# Compute the value at the node\u001b[39;00m\n\u001b[1;32m---> 22\u001b[0m successors \u001b[38;5;241m=\u001b[39m [\u001b[43mcalc_node_value\u001b[49m\u001b[43m(\u001b[49m\u001b[43mi\u001b[49m\u001b[43m \u001b[49m\u001b[38;5;241;43m+\u001b[39;49m\u001b[43m \u001b[49m\u001b[38;5;241;43m1\u001b[39;49m\u001b[43m,\u001b[49m\u001b[43m \u001b[49m\u001b[43mpath\u001b[49m\u001b[43m \u001b[49m\u001b[38;5;241;43m+\u001b[39;49m\u001b[43m \u001b[49m\u001b[43m(\u001b[49m\u001b[43mj\u001b[49m\u001b[43m,\u001b[49m\u001b[43m)\u001b[49m\u001b[43m,\u001b[49m\u001b[43m \u001b[49m\u001b[43mterminal_payoffs\u001b[49m\u001b[43m,\u001b[49m\u001b[43m \u001b[49m\u001b[43mb\u001b[49m\u001b[43m,\u001b[49m\u001b[43m \u001b[49m\u001b[43mis_high_estimator\u001b[49m\u001b[43m)\u001b[49m \u001b[38;5;28;01mfor\u001b[39;00m j \u001b[38;5;129;01min\u001b[39;00m \u001b[38;5;28mrange\u001b[39m(\u001b[38;5;241m1\u001b[39m, b \u001b[38;5;241m+\u001b[39m \u001b[38;5;241m1\u001b[39m)]\n\u001b[0;32m     23\u001b[0m h_i \u001b[38;5;241m=\u001b[39m \u001b[38;5;28mmax\u001b[39m(terminal_nodes\u001b[38;5;241m.\u001b[39mget((i, \u001b[38;5;241m*\u001b[39mpath), \u001b[38;5;241m0\u001b[39m) \u001b[38;5;241m-\u001b[39m K, \u001b[38;5;241m0\u001b[39m)  \u001b[38;5;66;03m# Placeholder for h_i\u001b[39;00m\n\u001b[0;32m     25\u001b[0m \u001b[38;5;28;01mif\u001b[39;00m is_high_estimator:\n",
      "Cell \u001b[1;32mIn[1], line 22\u001b[0m, in \u001b[0;36mcalc_node_value\u001b[1;34m(i, path, terminal_payoffs, b, is_high_estimator)\u001b[0m\n\u001b[0;32m     19\u001b[0m     \u001b[38;5;28;01mreturn\u001b[39;00m terminal_payoffs[(i, \u001b[38;5;241m*\u001b[39mpath)]\n\u001b[0;32m     21\u001b[0m \u001b[38;5;66;03m# Compute the value at the node\u001b[39;00m\n\u001b[1;32m---> 22\u001b[0m successors \u001b[38;5;241m=\u001b[39m \u001b[43m[\u001b[49m\u001b[43mcalc_node_value\u001b[49m\u001b[43m(\u001b[49m\u001b[43mi\u001b[49m\u001b[43m \u001b[49m\u001b[38;5;241;43m+\u001b[39;49m\u001b[43m \u001b[49m\u001b[38;5;241;43m1\u001b[39;49m\u001b[43m,\u001b[49m\u001b[43m \u001b[49m\u001b[43mpath\u001b[49m\u001b[43m \u001b[49m\u001b[38;5;241;43m+\u001b[39;49m\u001b[43m \u001b[49m\u001b[43m(\u001b[49m\u001b[43mj\u001b[49m\u001b[43m,\u001b[49m\u001b[43m)\u001b[49m\u001b[43m,\u001b[49m\u001b[43m \u001b[49m\u001b[43mterminal_payoffs\u001b[49m\u001b[43m,\u001b[49m\u001b[43m \u001b[49m\u001b[43mb\u001b[49m\u001b[43m,\u001b[49m\u001b[43m \u001b[49m\u001b[43mis_high_estimator\u001b[49m\u001b[43m)\u001b[49m\u001b[43m \u001b[49m\u001b[38;5;28;43;01mfor\u001b[39;49;00m\u001b[43m \u001b[49m\u001b[43mj\u001b[49m\u001b[43m \u001b[49m\u001b[38;5;129;43;01min\u001b[39;49;00m\u001b[43m \u001b[49m\u001b[38;5;28;43mrange\u001b[39;49m\u001b[43m(\u001b[49m\u001b[38;5;241;43m1\u001b[39;49m\u001b[43m,\u001b[49m\u001b[43m \u001b[49m\u001b[43mb\u001b[49m\u001b[43m \u001b[49m\u001b[38;5;241;43m+\u001b[39;49m\u001b[43m \u001b[49m\u001b[38;5;241;43m1\u001b[39;49m\u001b[43m)\u001b[49m\u001b[43m]\u001b[49m\n\u001b[0;32m     23\u001b[0m h_i \u001b[38;5;241m=\u001b[39m \u001b[38;5;28mmax\u001b[39m(terminal_nodes\u001b[38;5;241m.\u001b[39mget((i, \u001b[38;5;241m*\u001b[39mpath), \u001b[38;5;241m0\u001b[39m) \u001b[38;5;241m-\u001b[39m K, \u001b[38;5;241m0\u001b[39m)  \u001b[38;5;66;03m# Placeholder for h_i\u001b[39;00m\n\u001b[0;32m     25\u001b[0m \u001b[38;5;28;01mif\u001b[39;00m is_high_estimator:\n",
      "Cell \u001b[1;32mIn[1], line 22\u001b[0m, in \u001b[0;36m<listcomp>\u001b[1;34m(.0)\u001b[0m\n\u001b[0;32m     19\u001b[0m     \u001b[38;5;28;01mreturn\u001b[39;00m terminal_payoffs[(i, \u001b[38;5;241m*\u001b[39mpath)]\n\u001b[0;32m     21\u001b[0m \u001b[38;5;66;03m# Compute the value at the node\u001b[39;00m\n\u001b[1;32m---> 22\u001b[0m successors \u001b[38;5;241m=\u001b[39m [\u001b[43mcalc_node_value\u001b[49m\u001b[43m(\u001b[49m\u001b[43mi\u001b[49m\u001b[43m \u001b[49m\u001b[38;5;241;43m+\u001b[39;49m\u001b[43m \u001b[49m\u001b[38;5;241;43m1\u001b[39;49m\u001b[43m,\u001b[49m\u001b[43m \u001b[49m\u001b[43mpath\u001b[49m\u001b[43m \u001b[49m\u001b[38;5;241;43m+\u001b[39;49m\u001b[43m \u001b[49m\u001b[43m(\u001b[49m\u001b[43mj\u001b[49m\u001b[43m,\u001b[49m\u001b[43m)\u001b[49m\u001b[43m,\u001b[49m\u001b[43m \u001b[49m\u001b[43mterminal_payoffs\u001b[49m\u001b[43m,\u001b[49m\u001b[43m \u001b[49m\u001b[43mb\u001b[49m\u001b[43m,\u001b[49m\u001b[43m \u001b[49m\u001b[43mis_high_estimator\u001b[49m\u001b[43m)\u001b[49m \u001b[38;5;28;01mfor\u001b[39;00m j \u001b[38;5;129;01min\u001b[39;00m \u001b[38;5;28mrange\u001b[39m(\u001b[38;5;241m1\u001b[39m, b \u001b[38;5;241m+\u001b[39m \u001b[38;5;241m1\u001b[39m)]\n\u001b[0;32m     23\u001b[0m h_i \u001b[38;5;241m=\u001b[39m \u001b[38;5;28mmax\u001b[39m(terminal_nodes\u001b[38;5;241m.\u001b[39mget((i, \u001b[38;5;241m*\u001b[39mpath), \u001b[38;5;241m0\u001b[39m) \u001b[38;5;241m-\u001b[39m K, \u001b[38;5;241m0\u001b[39m)  \u001b[38;5;66;03m# Placeholder for h_i\u001b[39;00m\n\u001b[0;32m     25\u001b[0m \u001b[38;5;28;01mif\u001b[39;00m is_high_estimator:\n",
      "    \u001b[1;31m[... skipping similar frames: <listcomp> at line 22 (1484 times), calc_node_value at line 22 (1484 times)]\u001b[0m\n",
      "Cell \u001b[1;32mIn[1], line 22\u001b[0m, in \u001b[0;36mcalc_node_value\u001b[1;34m(i, path, terminal_payoffs, b, is_high_estimator)\u001b[0m\n\u001b[0;32m     19\u001b[0m     \u001b[38;5;28;01mreturn\u001b[39;00m terminal_payoffs[(i, \u001b[38;5;241m*\u001b[39mpath)]\n\u001b[0;32m     21\u001b[0m \u001b[38;5;66;03m# Compute the value at the node\u001b[39;00m\n\u001b[1;32m---> 22\u001b[0m successors \u001b[38;5;241m=\u001b[39m \u001b[43m[\u001b[49m\u001b[43mcalc_node_value\u001b[49m\u001b[43m(\u001b[49m\u001b[43mi\u001b[49m\u001b[43m \u001b[49m\u001b[38;5;241;43m+\u001b[39;49m\u001b[43m \u001b[49m\u001b[38;5;241;43m1\u001b[39;49m\u001b[43m,\u001b[49m\u001b[43m \u001b[49m\u001b[43mpath\u001b[49m\u001b[43m \u001b[49m\u001b[38;5;241;43m+\u001b[39;49m\u001b[43m \u001b[49m\u001b[43m(\u001b[49m\u001b[43mj\u001b[49m\u001b[43m,\u001b[49m\u001b[43m)\u001b[49m\u001b[43m,\u001b[49m\u001b[43m \u001b[49m\u001b[43mterminal_payoffs\u001b[49m\u001b[43m,\u001b[49m\u001b[43m \u001b[49m\u001b[43mb\u001b[49m\u001b[43m,\u001b[49m\u001b[43m \u001b[49m\u001b[43mis_high_estimator\u001b[49m\u001b[43m)\u001b[49m\u001b[43m \u001b[49m\u001b[38;5;28;43;01mfor\u001b[39;49;00m\u001b[43m \u001b[49m\u001b[43mj\u001b[49m\u001b[43m \u001b[49m\u001b[38;5;129;43;01min\u001b[39;49;00m\u001b[43m \u001b[49m\u001b[38;5;28;43mrange\u001b[39;49m\u001b[43m(\u001b[49m\u001b[38;5;241;43m1\u001b[39;49m\u001b[43m,\u001b[49m\u001b[43m \u001b[49m\u001b[43mb\u001b[49m\u001b[43m \u001b[49m\u001b[38;5;241;43m+\u001b[39;49m\u001b[43m \u001b[49m\u001b[38;5;241;43m1\u001b[39;49m\u001b[43m)\u001b[49m\u001b[43m]\u001b[49m\n\u001b[0;32m     23\u001b[0m h_i \u001b[38;5;241m=\u001b[39m \u001b[38;5;28mmax\u001b[39m(terminal_nodes\u001b[38;5;241m.\u001b[39mget((i, \u001b[38;5;241m*\u001b[39mpath), \u001b[38;5;241m0\u001b[39m) \u001b[38;5;241m-\u001b[39m K, \u001b[38;5;241m0\u001b[39m)  \u001b[38;5;66;03m# Placeholder for h_i\u001b[39;00m\n\u001b[0;32m     25\u001b[0m \u001b[38;5;28;01mif\u001b[39;00m is_high_estimator:\n",
      "Cell \u001b[1;32mIn[1], line 22\u001b[0m, in \u001b[0;36m<listcomp>\u001b[1;34m(.0)\u001b[0m\n\u001b[0;32m     19\u001b[0m     \u001b[38;5;28;01mreturn\u001b[39;00m terminal_payoffs[(i, \u001b[38;5;241m*\u001b[39mpath)]\n\u001b[0;32m     21\u001b[0m \u001b[38;5;66;03m# Compute the value at the node\u001b[39;00m\n\u001b[1;32m---> 22\u001b[0m successors \u001b[38;5;241m=\u001b[39m [\u001b[43mcalc_node_value\u001b[49m\u001b[43m(\u001b[49m\u001b[43mi\u001b[49m\u001b[43m \u001b[49m\u001b[38;5;241;43m+\u001b[39;49m\u001b[43m \u001b[49m\u001b[38;5;241;43m1\u001b[39;49m\u001b[43m,\u001b[49m\u001b[43m \u001b[49m\u001b[43mpath\u001b[49m\u001b[43m \u001b[49m\u001b[38;5;241;43m+\u001b[39;49m\u001b[43m \u001b[49m\u001b[43m(\u001b[49m\u001b[43mj\u001b[49m\u001b[43m,\u001b[49m\u001b[43m)\u001b[49m\u001b[43m,\u001b[49m\u001b[43m \u001b[49m\u001b[43mterminal_payoffs\u001b[49m\u001b[43m,\u001b[49m\u001b[43m \u001b[49m\u001b[43mb\u001b[49m\u001b[43m,\u001b[49m\u001b[43m \u001b[49m\u001b[43mis_high_estimator\u001b[49m\u001b[43m)\u001b[49m \u001b[38;5;28;01mfor\u001b[39;00m j \u001b[38;5;129;01min\u001b[39;00m \u001b[38;5;28mrange\u001b[39m(\u001b[38;5;241m1\u001b[39m, b \u001b[38;5;241m+\u001b[39m \u001b[38;5;241m1\u001b[39m)]\n\u001b[0;32m     23\u001b[0m h_i \u001b[38;5;241m=\u001b[39m \u001b[38;5;28mmax\u001b[39m(terminal_nodes\u001b[38;5;241m.\u001b[39mget((i, \u001b[38;5;241m*\u001b[39mpath), \u001b[38;5;241m0\u001b[39m) \u001b[38;5;241m-\u001b[39m K, \u001b[38;5;241m0\u001b[39m)  \u001b[38;5;66;03m# Placeholder for h_i\u001b[39;00m\n\u001b[0;32m     25\u001b[0m \u001b[38;5;28;01mif\u001b[39;00m is_high_estimator:\n",
      "\u001b[1;31mRecursionError\u001b[0m: maximum recursion depth exceeded"
     ]
    }
   ],
   "source": [
    "# Placeholder for terminal node values; replace with actual values\n",
    "terminal_nodes = {\n",
    "    # Format: (j1, j2, ..., jm): node_value\n",
    "    (1, 1, 1): 65,  # example node value\n",
    "    # Add all terminal nodes here following the same format\n",
    "}\n",
    "\n",
    "# Strike price\n",
    "K = 50\n",
    "b = 3  # Assuming a trinomial tree\n",
    "\n",
    "# Calculate the payoff at the terminal nodes\n",
    "terminal_payoffs = {key: max(value - K, 0) for key, value in terminal_nodes.items()}\n",
    "\n",
    "# Function to calculate the value at a non-terminal node\n",
    "def calc_node_value(i, path, terminal_payoffs, b, is_high_estimator=True):\n",
    "    # Base case for terminal nodes\n",
    "    if (i, *path) in terminal_payoffs:\n",
    "        return terminal_payoffs[(i, *path)]\n",
    "\n",
    "    # Compute the value at the node\n",
    "    successors = [calc_node_value(i + 1, path + (j,), terminal_payoffs, b, is_high_estimator) for j in range(1, b + 1)]\n",
    "    h_i = max(terminal_nodes.get((i, *path), 0) - K, 0)  # Placeholder for h_i\n",
    "\n",
    "    if is_high_estimator:\n",
    "        return max(h_i, sum(successors) / b)\n",
    "    else:  # Low estimator\n",
    "        low_values = [max(h_i, (sum(successors) - v) / (b - 1)) for v in successors]\n",
    "        return sum(low_values) / b\n",
    "\n",
    "# Calculate high estimator\n",
    "high_estimator = calc_node_value(0, tuple(), terminal_payoffs, b, True)\n",
    "\n",
    "# Calculate low estimator\n",
    "low_estimator = calc_node_value(0, tuple(), terminal_payoffs, b, False)\n",
    "\n",
    "(high_estimator, low_estimator)"
   ]
  }
 ],
 "metadata": {
  "kernelspec": {
   "display_name": "Python 3",
   "language": "python",
   "name": "python3"
  },
  "language_info": {
   "codemirror_mode": {
    "name": "ipython",
    "version": 3
   },
   "file_extension": ".py",
   "mimetype": "text/x-python",
   "name": "python",
   "nbconvert_exporter": "python",
   "pygments_lexer": "ipython3",
   "version": "3.11.5"
  }
 },
 "nbformat": 4,
 "nbformat_minor": 2
}
