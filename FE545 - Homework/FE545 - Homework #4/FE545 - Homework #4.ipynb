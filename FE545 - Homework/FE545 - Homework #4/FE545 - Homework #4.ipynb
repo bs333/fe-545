{
 "cells": [
  {
   "cell_type": "markdown",
   "metadata": {},
   "source": [
    "### FE545 - Homework #4"
   ]
  },
  {
   "cell_type": "markdown",
   "metadata": {},
   "source": [
    "**Author**: Sid Bhatia\n",
    "\n",
    "**Date**: April 6th, 2023\n",
    "\n",
    "**Pledge**: I pledge my honor that I have abided by the Stevens Honor System.\n",
    "\n",
    "**Professor**: Steve Yang"
   ]
  },
  {
   "cell_type": "markdown",
   "metadata": {},
   "source": [
    "#### Problem 1"
   ]
  },
  {
   "cell_type": "markdown",
   "metadata": {},
   "source": [
    "Pricing a derivative security entails calculating the *expected discounted value* of its *payoff*. This reduces, in principle, to a problem of numerical integration; but in practice this calculation is often difficult for high-dimensional pricing problems. \n",
    "\n",
    "**Broadie** and **Glasserman** (1997)  proposed the method of the simulated tree to price American options, which can derive the upper and lower bounds for American options. This combination makes it possible to measure and control errors as the computational effort increases. \n",
    "\n",
    "The main drawback of the random tree method is that its computational requirements grow exponentially in the number of exercise dates $m$, so the method is applicable only when $m$ is small. Nevertheless, for problems with small $m$, it is very effective, and it also serves to illustrate a theme of managing sources of high and low bias."
   ]
  },
  {
   "cell_type": "markdown",
   "metadata": {},
   "source": [
    "Let $\\tilde{h_i}$ denote the payoff function for exercise at $t_i$ which we now allow to depend on $i$. Let $\\tilde{V}_i(x)$ denote the value of the option at $t_i$ given $X_i = x_i$ (the option has not been exercised). We are ultimately interested in $\\tilde{V}_0(X_0).$ This value is determined recursively as follows:\n",
    "\n",
    "$$\\tilde{V}_m(x) = \\tilde{h}_m(x) \\tag{1}$$\n",
    "\n",
    "$$\\tilde{V}_{i-1}(x) = \\max\\{\\tilde{h}_{i-1}(x), \\; \\mathbb{E}^Q[D_{i-1, i}(X_i) \\cdot \\tilde{V}_i(X_i) \\mid X_{i-1} = x]\\} \\tag{2}$$\n",
    "\n",
    "For $i = 1, \\dots, m$, we have introduced the notation $D_{i-1, i}(X_i)$ for the **discount factor** from $t_{i-1}$ to $t$. It states that the option value at expiration is given by the payoff function $\\tilde{h}_m$; and, at the $(i - 1)$-th exercise date, the option value is the **maximum** of the *immediate exercise value* and the *expected present value of continuing*."
   ]
  },
  {
   "cell_type": "markdown",
   "metadata": {},
   "source": [
    "As its name suggests, the random tree method is based on simulating a tree of paths of the underlying **Markov Chain** $X_0, X_1, \\dots, X_m$. Fix a branching parameter $b \\geq 2$. From the initial state $X_0$, simulate $b$ independent successor states  $X_1^1, \\dots, X_1^B$ all having the **law** of $X_1$. For each $X_1^i$, simulate $b$ independent successors $X_1^{i1}, \\dots X_1^{ib}$ from the **conditional law** of $X_2$ given $X_1 = X_1^i$. From each $X_2^{i_1 i_2}$, generate $b$ successors $X_3^{i_1 i_2 1}, \\dots X_3^{i_1 i_2 b}$, and so on. We denote a *generic node* in the tree at time step $i$ by $X_i^{j_1 j_2 \\dots j_i}$. The superscript indicates that this node is reached by following the $j$-th branch out of $X_0$, the $j_2$-th branch out of the next node, and so on. "
   ]
  },
  {
   "cell_type": "markdown",
   "metadata": {},
   "source": [
    "At all terminal nodes, set the estimator equal to the payoff at that node:\n",
    "\n",
    "$$\n",
    "\\hat{v}_m^{j_1 \\dots j_m} = h_m(X_m^{j_1 \\dots j_m}) \\tag{3}.\n",
    "$$\n",
    "\n",
    "At node $j_1, j_2, \\dots j_i$ at time step $i$, and for each $k = 1, \\dots, b$, set\n",
    "\n",
    "$$\n",
    "\\hat{v}_{ik}^{j_1 j_2 \\dots j_i} = \\begin{cases}\n",
    "\n",
    "h_i (X_i^{j_1 j_2 \\dots j_i}) & \\; \\text{if} \\; \\frac{1}{b} \\sum_{j = 1}^b \\hat{v}_{i + 1}^{j_1 j_2 \\dots j_i j} \\leq h_i (X_i^{j_1 j_2 \\dots j_i}); \\tag{4} \\\\\n",
    "\n",
    "\\hat{v}_{i + 1}^{j_1 j_2 \\dots j_i k} & \\; \\text{otherwise}\n",
    "\n",
    "\\end{cases}\n",
    "$$\n",
    "\n",
    "Then set\n",
    "\n",
    "$$\n",
    "\\hat{v}_i^{j_1 \\dots j_i} = \\frac{1}{b} \\sum_{k=1}^b \\hat{v}_{i,k}^{j_1 \\dots j_i} \\tag{5}\n",
    "$$\n",
    "\n",
    "Working backward, we then set\n",
    "\n",
    "$$\n",
    "\\hat{V}_i^{j_1 \\dots j_i} = \\max{\\left( h_i(X_i^{j_1 \\dots j_1}), \\frac{1}{b} \\sum_{k=1}^b \\hat{V}_{i,k}^{j_1 \\dots j_i})\\right) } \\tag{6}\n",
    "$$\n",
    "\n",
    "The high estimator of the option price at the current time and state is $\\hat{v}_0$."
   ]
  }
 ],
 "metadata": {
  "language_info": {
   "name": "python"
  }
 },
 "nbformat": 4,
 "nbformat_minor": 2
}
